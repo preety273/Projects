{
 "cells": [
  {
   "cell_type": "markdown",
   "metadata": {},
   "source": [
    "# Capstone Project: Recommender System for NBER Working Papers"
   ]
  },
  {
   "cell_type": "markdown",
   "metadata": {},
   "source": [
    "## Problem Statement"
   ]
  },
  {
   "cell_type": "markdown",
   "metadata": {},
   "source": [
    "The project aims to build a Working Paper Recommender System for users to provide relevant suggestions of working papers, almost similar to the queried working paper in terms of author, theme/program and title (topic of interest). "
   ]
  },
  {
   "cell_type": "markdown",
   "metadata": {},
   "source": [
    "## Executive Summary\n",
    "\n",
    "Given that there is plethora of information available on the internet for any searched query, it is of utmost importance to provide users with only the relevant information. This information has to be similar to the characteristics of the searched query. This project aims to help researchers who are conducting literature review on any topic in the field of economics or development theory by suggesting them working papers similar to their queried paper. This would streamline the search and save time and effort put by users. The recommender system is easy to use and provides results quickly. \n",
    "\n",
    "For the purpose of building a Working Paper Recommender System, a dataset on authors and titles is forked from someone's github. On the other hand, the dataset on the program and working paper codes is scraped from the website of National Bureau of Economic Research (NBER). The dataset comprises of over 20,000 working papers written from 1975 to 2015, and spanning over 21 different themes/programs. The title and authors included in the corpus of working papers is cleaned for punctuations, english stopwords such as 'the','a','an',among others before sending to the built machine learning algorithm. The text of titles is also vectorized (that is converting each word into a number) to make it machine-readable. The recommender system uses cosine similarity to make recommendations about similar papers to the users when they input the title of any paper included in the dataset of NBER working papers. Cosine similarity is a metric used to measure similarity between any two texts/documents irrespective of their size/magnitude (length of the document). The closer the cosine similarity is to 1 between any working papers, more similar are the working papers. The project has built three recommender systems, namely, a) recommending papers only by title, b) recommending papers that have similar titles and authors, and c) recommending papers that have similar titles, authors and programs. After the user inputs a title, 10 most similar working papers are recommended from over 20,000 papers available in the corpus. \n",
    "\n",
    "Although the recommender system is easy to use and implement, it may have certain limitations. In this project, the recommender system is built solely on the content of titles and no information is used on user preferences for an author, theme, etc. To improve the robustness of the recommender system, it is essential to collect information about user preferences, and use more sphisticated techniques in deep learning to make the most suitable recommendations to the users in future. \n",
    "\n",
    "\n",
    "### Contents:\n",
    "\n",
    "- [Data Import](#Data-Import)\n",
    "- [Data Cleaning](#Data-Cleaning-and-Exploratory-Data-Analysis)\n",
    "- [Exploratory Data Analysis (EDA)](#Exploratory-Data-Analysis-EDA)\n",
    "- [Preprocessing](./Final_Preprocessing.ipynb)\n",
    "- [Modeling (Title Only)](./Final_Model_title_only.ipynb)\n",
    "- [Modeling (Title & Author)](./Final_Model_title_author.ipynb)\n",
    "- [Modeling (Title, Author & Program)](./Final_Model_title_author_program.ipynb)\n",
    "- [Conclusion and Limitations](./Final_Model_title_author_program.ipynb#Conclusion)"
   ]
  },
  {
   "cell_type": "markdown",
   "metadata": {},
   "source": [
    "## Data Import"
   ]
  },
  {
   "cell_type": "code",
   "execution_count": 1,
   "metadata": {},
   "outputs": [],
   "source": [
    "#Import Libraries\n",
    "\n",
    "import pandas as pd\n",
    "import numpy as np\n",
    "import seaborn as sns\n",
    "import matplotlib.pyplot as plt"
   ]
  },
  {
   "cell_type": "code",
   "execution_count": 2,
   "metadata": {},
   "outputs": [],
   "source": [
    "# #setting the display options\n",
    "\n",
    "# pd.set_option('display.max_colwidth', -1)\n",
    "# pd.set_option('display.max_rows', None)\n",
    "# pd.set_option('display.max_columns', None)\n",
    "# pd.set_option('display.width', None)"
   ]
  },
  {
   "cell_type": "code",
   "execution_count": 3,
   "metadata": {},
   "outputs": [],
   "source": [
    "#reading the datafiles with programs\n",
    "\n",
    "one = pd.read_csv('../data/onetotwok.csv', converters={'author': eval, 'prog': eval})\n",
    "two = pd.read_csv('../data/twotofourk.csv', converters={'author': eval, 'prog': eval})\n",
    "three = pd.read_csv('../data/fourtofivek.csv', converters={'author': eval, 'prog': eval})\n",
    "four = pd.read_csv('../data/fivetoeightk.csv', converters={'author': eval, 'prog': eval})\n",
    "five = pd.read_csv('../data/eighttotenk.csv', converters={'author': eval, 'prog': eval})\n",
    "six = pd.read_csv('../data/tentotwelk.csv', converters={'author': eval, 'prog': eval})\n",
    "seven = pd.read_csv('../data/tweltofiftk.csv', converters={'author': eval, 'prog': eval})\n",
    "eight = pd.read_csv('../data/15to18k.csv', converters={'author': eval, 'prog': eval})\n",
    "nine = pd.read_csv('../data/18to21k.csv', converters={'author': eval, 'prog': eval})"
   ]
  },
  {
   "cell_type": "code",
   "execution_count": 4,
   "metadata": {},
   "outputs": [
    {
     "data": {
      "text/html": [
       "<div>\n",
       "<style scoped>\n",
       "    .dataframe tbody tr th:only-of-type {\n",
       "        vertical-align: middle;\n",
       "    }\n",
       "\n",
       "    .dataframe tbody tr th {\n",
       "        vertical-align: top;\n",
       "    }\n",
       "\n",
       "    .dataframe thead th {\n",
       "        text-align: right;\n",
       "    }\n",
       "</style>\n",
       "<table border=\"1\" class=\"dataframe\">\n",
       "  <thead>\n",
       "    <tr style=\"text-align: right;\">\n",
       "      <th></th>\n",
       "      <th>Unnamed: 0</th>\n",
       "      <th>paper</th>\n",
       "      <th>year</th>\n",
       "      <th>month</th>\n",
       "      <th>title</th>\n",
       "      <th>author</th>\n",
       "      <th>code</th>\n",
       "      <th>prog</th>\n",
       "    </tr>\n",
       "  </thead>\n",
       "  <tbody>\n",
       "    <tr>\n",
       "      <td>0</td>\n",
       "      <td>0</td>\n",
       "      <td>1</td>\n",
       "      <td>1973</td>\n",
       "      <td>June</td>\n",
       "      <td>Education, Information, and Efficiency</td>\n",
       "      <td>[Finis Welch]</td>\n",
       "      <td>w00001</td>\n",
       "      <td>[]</td>\n",
       "    </tr>\n",
       "    <tr>\n",
       "      <td>1</td>\n",
       "      <td>1</td>\n",
       "      <td>2</td>\n",
       "      <td>1973</td>\n",
       "      <td>June</td>\n",
       "      <td>Hospital Utilization: An Analysis of SMSA Diff...</td>\n",
       "      <td>[Barry R Chiswick]</td>\n",
       "      <td>w00002</td>\n",
       "      <td>[]</td>\n",
       "    </tr>\n",
       "    <tr>\n",
       "      <td>2</td>\n",
       "      <td>2</td>\n",
       "      <td>3</td>\n",
       "      <td>1973</td>\n",
       "      <td>June</td>\n",
       "      <td>Error Components Regression Models and Their A...</td>\n",
       "      <td>[Swarnjit S Arora]</td>\n",
       "      <td>w00003</td>\n",
       "      <td>[]</td>\n",
       "    </tr>\n",
       "    <tr>\n",
       "      <td>3</td>\n",
       "      <td>3</td>\n",
       "      <td>4</td>\n",
       "      <td>1973</td>\n",
       "      <td>July</td>\n",
       "      <td>Human Capital Life Cycle of Earnings Models: A...</td>\n",
       "      <td>[Lee A Lillard]</td>\n",
       "      <td>w00004</td>\n",
       "      <td>[]</td>\n",
       "    </tr>\n",
       "    <tr>\n",
       "      <td>4</td>\n",
       "      <td>4</td>\n",
       "      <td>5</td>\n",
       "      <td>1973</td>\n",
       "      <td>July</td>\n",
       "      <td>A Life Cycle Family Model</td>\n",
       "      <td>[James P Smith]</td>\n",
       "      <td>w00005</td>\n",
       "      <td>[]</td>\n",
       "    </tr>\n",
       "  </tbody>\n",
       "</table>\n",
       "</div>"
      ],
      "text/plain": [
       "   Unnamed: 0  paper  year month  \\\n",
       "0           0      1  1973  June   \n",
       "1           1      2  1973  June   \n",
       "2           2      3  1973  June   \n",
       "3           3      4  1973  July   \n",
       "4           4      5  1973  July   \n",
       "\n",
       "                                               title              author  \\\n",
       "0             Education, Information, and Efficiency       [Finis Welch]   \n",
       "1  Hospital Utilization: An Analysis of SMSA Diff...  [Barry R Chiswick]   \n",
       "2  Error Components Regression Models and Their A...  [Swarnjit S Arora]   \n",
       "3  Human Capital Life Cycle of Earnings Models: A...     [Lee A Lillard]   \n",
       "4                          A Life Cycle Family Model     [James P Smith]   \n",
       "\n",
       "     code prog  \n",
       "0  w00001   []  \n",
       "1  w00002   []  \n",
       "2  w00003   []  \n",
       "3  w00004   []  \n",
       "4  w00005   []  "
      ]
     },
     "execution_count": 4,
     "metadata": {},
     "output_type": "execute_result"
    }
   ],
   "source": [
    "#joining the datasets (all rows)\n",
    "df = pd.concat([one, two, three, four, five, six, seven, eight, nine], ignore_index=False)\n",
    "df.head()"
   ]
  },
  {
   "cell_type": "code",
   "execution_count": 5,
   "metadata": {
    "scrolled": true
   },
   "outputs": [
    {
     "data": {
      "text/html": [
       "<div>\n",
       "<style scoped>\n",
       "    .dataframe tbody tr th:only-of-type {\n",
       "        vertical-align: middle;\n",
       "    }\n",
       "\n",
       "    .dataframe tbody tr th {\n",
       "        vertical-align: top;\n",
       "    }\n",
       "\n",
       "    .dataframe thead th {\n",
       "        text-align: right;\n",
       "    }\n",
       "</style>\n",
       "<table border=\"1\" class=\"dataframe\">\n",
       "  <thead>\n",
       "    <tr style=\"text-align: right;\">\n",
       "      <th></th>\n",
       "      <th>index</th>\n",
       "      <th>Unnamed: 0</th>\n",
       "      <th>paper</th>\n",
       "      <th>year</th>\n",
       "      <th>month</th>\n",
       "      <th>title</th>\n",
       "      <th>author</th>\n",
       "      <th>code</th>\n",
       "      <th>prog</th>\n",
       "    </tr>\n",
       "  </thead>\n",
       "  <tbody>\n",
       "    <tr>\n",
       "      <td>0</td>\n",
       "      <td>0</td>\n",
       "      <td>0</td>\n",
       "      <td>1</td>\n",
       "      <td>1973</td>\n",
       "      <td>June</td>\n",
       "      <td>Education, Information, and Efficiency</td>\n",
       "      <td>[Finis Welch]</td>\n",
       "      <td>w00001</td>\n",
       "      <td>[]</td>\n",
       "    </tr>\n",
       "    <tr>\n",
       "      <td>1</td>\n",
       "      <td>1</td>\n",
       "      <td>1</td>\n",
       "      <td>2</td>\n",
       "      <td>1973</td>\n",
       "      <td>June</td>\n",
       "      <td>Hospital Utilization: An Analysis of SMSA Diff...</td>\n",
       "      <td>[Barry R Chiswick]</td>\n",
       "      <td>w00002</td>\n",
       "      <td>[]</td>\n",
       "    </tr>\n",
       "    <tr>\n",
       "      <td>2</td>\n",
       "      <td>2</td>\n",
       "      <td>2</td>\n",
       "      <td>3</td>\n",
       "      <td>1973</td>\n",
       "      <td>June</td>\n",
       "      <td>Error Components Regression Models and Their A...</td>\n",
       "      <td>[Swarnjit S Arora]</td>\n",
       "      <td>w00003</td>\n",
       "      <td>[]</td>\n",
       "    </tr>\n",
       "    <tr>\n",
       "      <td>3</td>\n",
       "      <td>3</td>\n",
       "      <td>3</td>\n",
       "      <td>4</td>\n",
       "      <td>1973</td>\n",
       "      <td>July</td>\n",
       "      <td>Human Capital Life Cycle of Earnings Models: A...</td>\n",
       "      <td>[Lee A Lillard]</td>\n",
       "      <td>w00004</td>\n",
       "      <td>[]</td>\n",
       "    </tr>\n",
       "    <tr>\n",
       "      <td>4</td>\n",
       "      <td>4</td>\n",
       "      <td>4</td>\n",
       "      <td>5</td>\n",
       "      <td>1973</td>\n",
       "      <td>July</td>\n",
       "      <td>A Life Cycle Family Model</td>\n",
       "      <td>[James P Smith]</td>\n",
       "      <td>w00005</td>\n",
       "      <td>[]</td>\n",
       "    </tr>\n",
       "  </tbody>\n",
       "</table>\n",
       "</div>"
      ],
      "text/plain": [
       "   index  Unnamed: 0  paper  year month  \\\n",
       "0      0           0      1  1973  June   \n",
       "1      1           1      2  1973  June   \n",
       "2      2           2      3  1973  June   \n",
       "3      3           3      4  1973  July   \n",
       "4      4           4      5  1973  July   \n",
       "\n",
       "                                               title              author  \\\n",
       "0             Education, Information, and Efficiency       [Finis Welch]   \n",
       "1  Hospital Utilization: An Analysis of SMSA Diff...  [Barry R Chiswick]   \n",
       "2  Error Components Regression Models and Their A...  [Swarnjit S Arora]   \n",
       "3  Human Capital Life Cycle of Earnings Models: A...     [Lee A Lillard]   \n",
       "4                          A Life Cycle Family Model     [James P Smith]   \n",
       "\n",
       "     code prog  \n",
       "0  w00001   []  \n",
       "1  w00002   []  \n",
       "2  w00003   []  \n",
       "3  w00004   []  \n",
       "4  w00005   []  "
      ]
     },
     "execution_count": 5,
     "metadata": {},
     "output_type": "execute_result"
    }
   ],
   "source": [
    "#reset the index of the concatenated dataframe \n",
    "df.reset_index(inplace=True)\n",
    "df.head()"
   ]
  },
  {
   "cell_type": "markdown",
   "metadata": {},
   "source": [
    "## Data Cleaning"
   ]
  },
  {
   "cell_type": "code",
   "execution_count": 6,
   "metadata": {},
   "outputs": [],
   "source": [
    "#dropping the column = Unnamed:0\n",
    "df.drop(columns='Unnamed: 0', axis=1,inplace=True)\n",
    "df.drop(columns='index', axis=1, inplace=True)"
   ]
  },
  {
   "cell_type": "code",
   "execution_count": 7,
   "metadata": {},
   "outputs": [
    {
     "data": {
      "text/html": [
       "<div>\n",
       "<style scoped>\n",
       "    .dataframe tbody tr th:only-of-type {\n",
       "        vertical-align: middle;\n",
       "    }\n",
       "\n",
       "    .dataframe tbody tr th {\n",
       "        vertical-align: top;\n",
       "    }\n",
       "\n",
       "    .dataframe thead th {\n",
       "        text-align: right;\n",
       "    }\n",
       "</style>\n",
       "<table border=\"1\" class=\"dataframe\">\n",
       "  <thead>\n",
       "    <tr style=\"text-align: right;\">\n",
       "      <th></th>\n",
       "      <th>paper</th>\n",
       "      <th>year</th>\n",
       "      <th>month</th>\n",
       "      <th>title</th>\n",
       "      <th>author</th>\n",
       "      <th>code</th>\n",
       "      <th>prog</th>\n",
       "    </tr>\n",
       "  </thead>\n",
       "  <tbody>\n",
       "    <tr>\n",
       "      <td>0</td>\n",
       "      <td>1</td>\n",
       "      <td>1973</td>\n",
       "      <td>June</td>\n",
       "      <td>Education, Information, and Efficiency</td>\n",
       "      <td>[Finis Welch]</td>\n",
       "      <td>w00001</td>\n",
       "      <td>[]</td>\n",
       "    </tr>\n",
       "    <tr>\n",
       "      <td>1</td>\n",
       "      <td>2</td>\n",
       "      <td>1973</td>\n",
       "      <td>June</td>\n",
       "      <td>Hospital Utilization: An Analysis of SMSA Diff...</td>\n",
       "      <td>[Barry R Chiswick]</td>\n",
       "      <td>w00002</td>\n",
       "      <td>[]</td>\n",
       "    </tr>\n",
       "    <tr>\n",
       "      <td>2</td>\n",
       "      <td>3</td>\n",
       "      <td>1973</td>\n",
       "      <td>June</td>\n",
       "      <td>Error Components Regression Models and Their A...</td>\n",
       "      <td>[Swarnjit S Arora]</td>\n",
       "      <td>w00003</td>\n",
       "      <td>[]</td>\n",
       "    </tr>\n",
       "    <tr>\n",
       "      <td>3</td>\n",
       "      <td>4</td>\n",
       "      <td>1973</td>\n",
       "      <td>July</td>\n",
       "      <td>Human Capital Life Cycle of Earnings Models: A...</td>\n",
       "      <td>[Lee A Lillard]</td>\n",
       "      <td>w00004</td>\n",
       "      <td>[]</td>\n",
       "    </tr>\n",
       "    <tr>\n",
       "      <td>4</td>\n",
       "      <td>5</td>\n",
       "      <td>1973</td>\n",
       "      <td>July</td>\n",
       "      <td>A Life Cycle Family Model</td>\n",
       "      <td>[James P Smith]</td>\n",
       "      <td>w00005</td>\n",
       "      <td>[]</td>\n",
       "    </tr>\n",
       "  </tbody>\n",
       "</table>\n",
       "</div>"
      ],
      "text/plain": [
       "   paper  year month                                              title  \\\n",
       "0      1  1973  June             Education, Information, and Efficiency   \n",
       "1      2  1973  June  Hospital Utilization: An Analysis of SMSA Diff...   \n",
       "2      3  1973  June  Error Components Regression Models and Their A...   \n",
       "3      4  1973  July  Human Capital Life Cycle of Earnings Models: A...   \n",
       "4      5  1973  July                          A Life Cycle Family Model   \n",
       "\n",
       "               author    code prog  \n",
       "0       [Finis Welch]  w00001   []  \n",
       "1  [Barry R Chiswick]  w00002   []  \n",
       "2  [Swarnjit S Arora]  w00003   []  \n",
       "3     [Lee A Lillard]  w00004   []  \n",
       "4     [James P Smith]  w00005   []  "
      ]
     },
     "execution_count": 7,
     "metadata": {},
     "output_type": "execute_result"
    }
   ],
   "source": [
    "#checking if the columns are dropped\n",
    "df.head()"
   ]
  },
  {
   "cell_type": "code",
   "execution_count": 8,
   "metadata": {},
   "outputs": [
    {
     "data": {
      "text/plain": [
       "(21000, 7)"
      ]
     },
     "execution_count": 8,
     "metadata": {},
     "output_type": "execute_result"
    }
   ],
   "source": [
    "#checking the dimension\n",
    "df.shape"
   ]
  },
  {
   "cell_type": "code",
   "execution_count": 9,
   "metadata": {},
   "outputs": [],
   "source": [
    "#checking the length of each row in the program column \n",
    "#putting a new column - drop_prog for the length\n",
    "#if length of the row is 1 and length of first element of x is 0, then assigning it to 1 otherwise 0\n",
    "\n",
    "df['drop_prog'] = df['prog'].map(lambda x :1 if (len(x) ==1 and len(x[0])==0) else 0)\n"
   ]
  },
  {
   "cell_type": "code",
   "execution_count": 10,
   "metadata": {},
   "outputs": [],
   "source": [
    "# df['drop_prog1'] = df['prog'].map(lambda x :1 if (len(x) !=1 and len(x[0])==0) else 0)"
   ]
  },
  {
   "cell_type": "code",
   "execution_count": 11,
   "metadata": {},
   "outputs": [],
   "source": [
    "# mapping the program column with the second element if length of x is not equal to 1 and second first element is 0\n",
    "\n",
    "df['prog'] = df['prog'].map(lambda x : x[1:] if (len(x) !=1 and len(x[0])==0) else x)"
   ]
  },
  {
   "cell_type": "code",
   "execution_count": 12,
   "metadata": {},
   "outputs": [],
   "source": [
    "#checking for one of the rows to see the change has been made \n",
    "# df.iloc[335]"
   ]
  },
  {
   "cell_type": "code",
   "execution_count": 13,
   "metadata": {},
   "outputs": [],
   "source": [
    "# dropping rows where drop_prog is 1 because it indicates that there is no program \n",
    "\n",
    "df.drop(df.loc[df['drop_prog']==1].index, inplace=True)"
   ]
  },
  {
   "cell_type": "code",
   "execution_count": 14,
   "metadata": {
    "scrolled": true
   },
   "outputs": [],
   "source": [
    "# checking the head again to see the values have been dropped \n",
    "\n",
    "# df.head()"
   ]
  },
  {
   "cell_type": "code",
   "execution_count": 15,
   "metadata": {},
   "outputs": [],
   "source": [
    "# dropping the drop_prog column \n",
    "\n",
    "df.drop('drop_prog',axis=1, inplace=True)"
   ]
  },
  {
   "cell_type": "code",
   "execution_count": 16,
   "metadata": {},
   "outputs": [],
   "source": [
    "#renaming the prog column as program\n",
    "df.rename(columns={'prog':'program'}, inplace=True)"
   ]
  },
  {
   "cell_type": "code",
   "execution_count": 17,
   "metadata": {},
   "outputs": [
    {
     "data": {
      "text/plain": [
       "(20696, 7)"
      ]
     },
     "execution_count": 17,
     "metadata": {},
     "output_type": "execute_result"
    }
   ],
   "source": [
    "#checking the dimension of the dataset\n",
    "df.shape"
   ]
  },
  {
   "cell_type": "code",
   "execution_count": 18,
   "metadata": {},
   "outputs": [
    {
     "data": {
      "text/plain": [
       "paper      0\n",
       "year       0\n",
       "month      0\n",
       "title      0\n",
       "author     0\n",
       "code       0\n",
       "program    0\n",
       "dtype: int64"
      ]
     },
     "execution_count": 18,
     "metadata": {},
     "output_type": "execute_result"
    }
   ],
   "source": [
    "#checking for null\n",
    "df.isnull().sum()"
   ]
  },
  {
   "cell_type": "code",
   "execution_count": 19,
   "metadata": {},
   "outputs": [
    {
     "name": "stdout",
     "output_type": "stream",
     "text": [
      "<class 'pandas.core.frame.DataFrame'>\n",
      "Int64Index: 20696 entries, 73 to 20999\n",
      "Data columns (total 7 columns):\n",
      "paper      20696 non-null int64\n",
      "year       20696 non-null int64\n",
      "month      20696 non-null object\n",
      "title      20696 non-null object\n",
      "author     20696 non-null object\n",
      "code       20696 non-null object\n",
      "program    20696 non-null object\n",
      "dtypes: int64(2), object(5)\n",
      "memory usage: 1.3+ MB\n"
     ]
    }
   ],
   "source": [
    "#checking for info\n",
    "df.info()"
   ]
  },
  {
   "cell_type": "code",
   "execution_count": 20,
   "metadata": {},
   "outputs": [],
   "source": [
    "#saving the cleaned file as csv to be used for latter parts\n",
    "df.to_csv('df.csv')"
   ]
  },
  {
   "cell_type": "markdown",
   "metadata": {},
   "source": [
    "## Exploratory Data Analysis (EDA)"
   ]
  },
  {
   "cell_type": "code",
   "execution_count": 21,
   "metadata": {},
   "outputs": [
    {
     "name": "stdout",
     "output_type": "stream",
     "text": [
      "Total number of working papers:  20696\n",
      "Total number of years:  41\n"
     ]
    }
   ],
   "source": [
    "print(\"Total number of working papers: \", df.shape[0])\n",
    "print(\"Total number of years: \", df['year'].nunique())"
   ]
  },
  {
   "cell_type": "code",
   "execution_count": 22,
   "metadata": {},
   "outputs": [
    {
     "data": {
      "text/plain": [
       "(1975, 2015)"
      ]
     },
     "execution_count": 22,
     "metadata": {},
     "output_type": "execute_result"
    }
   ],
   "source": [
    "#checking the minimum and maximum years\n",
    "min(df['year']), max(df['year'])"
   ]
  },
  {
   "cell_type": "code",
   "execution_count": 23,
   "metadata": {},
   "outputs": [
    {
     "data": {
      "text/plain": [
       "2013    1110\n",
       "2011    1065\n",
       "2014    1045\n",
       "2010    1025\n",
       "2009    1000\n",
       "Name: year, dtype: int64"
      ]
     },
     "execution_count": 23,
     "metadata": {},
     "output_type": "execute_result"
    }
   ],
   "source": [
    "#year-wise paper count\n",
    "df['year'].value_counts().sort_values(ascending=False).head()"
   ]
  },
  {
   "cell_type": "code",
   "execution_count": 24,
   "metadata": {},
   "outputs": [
    {
     "data": {
      "text/plain": [
       "year\n",
       "2013    1110\n",
       "2011    1065\n",
       "2014    1045\n",
       "2010    1025\n",
       "2009    1000\n",
       "Name: code, dtype: int64"
      ]
     },
     "execution_count": 24,
     "metadata": {},
     "output_type": "execute_result"
    }
   ],
   "source": [
    "#alternative way to do the above\n",
    "#counting the working papers year-wise\n",
    "df.groupby('year')['code'].count().sort_values(ascending=False).head()"
   ]
  },
  {
   "cell_type": "code",
   "execution_count": 25,
   "metadata": {},
   "outputs": [
    {
     "data": {
      "text/plain": [
       "October      1911\n",
       "December     1848\n",
       "August       1831\n",
       "June         1785\n",
       "January      1770\n",
       "September    1763\n",
       "May          1754\n",
       "March        1709\n",
       "February     1635\n",
       "July         1587\n",
       "April        1574\n",
       "November     1529\n",
       "Name: month, dtype: int64"
      ]
     },
     "execution_count": 25,
     "metadata": {},
     "output_type": "execute_result"
    }
   ],
   "source": [
    "#month-wise author/working paper-title count\n",
    "df['month'].value_counts()"
   ]
  },
  {
   "cell_type": "code",
   "execution_count": 26,
   "metadata": {},
   "outputs": [
    {
     "data": {
      "image/png": "[encoded data removed]",
      "text/plain": [
       "<Figure size 576x432 with 1 Axes>"
      ]
     },
     "metadata": {
      "needs_background": "light"
     },
     "output_type": "display_data"
    }
   ],
   "source": [
    "#plotting the graph for number of working papers each month\n",
    "plt.figure(figsize=(8,6))\n",
    "(df['month'].value_counts()).plot.bar();\n",
    "plt.title(\"Number of working papers published each month\", fontsize=15);\n",
    "plt.xlabel(\"Month\", fontsize=12);\n",
    "plt.ylabel(\"Number of working papers\", fontsize=12);"
   ]
  },
  {
   "cell_type": "markdown",
   "metadata": {},
   "source": [
    "The above chart shows that most of the working papers are published in the month of October, followed by December. "
   ]
  },
  {
   "cell_type": "code",
   "execution_count": 27,
   "metadata": {},
   "outputs": [
    {
     "data": {
      "image/png": "[encoded data removed]",
      "text/plain": [
       "<Figure size 576x432 with 1 Axes>"
      ]
     },
     "metadata": {
      "needs_background": "light"
     },
     "output_type": "display_data"
    }
   ],
   "source": [
    "#plotting the graph for number of working papers each year\n",
    "plt.figure(figsize=(8,6))\n",
    "(df.groupby('year')['code'].count()).plot.bar();\n",
    "plt.title(\"Number of working papers published each year\", fontsize=15);\n",
    "plt.xlabel(\"Year\", fontsize=12);\n",
    "plt.ylabel(\"Number of working papers\", fontsize=12);"
   ]
  },
  {
   "cell_type": "code",
   "execution_count": 28,
   "metadata": {},
   "outputs": [
    {
     "data": {
      "text/plain": [
       "year\n",
       "1975      4\n",
       "1976      4\n",
       "1977     17\n",
       "1978     51\n",
       "1979    104\n",
       "Name: author, dtype: int64"
      ]
     },
     "execution_count": 28,
     "metadata": {},
     "output_type": "execute_result"
    }
   ],
   "source": [
    "#Total number of authors year-wise\n",
    "df.groupby('year')['author'].count().head()"
   ]
  },
  {
   "cell_type": "code",
   "execution_count": 29,
   "metadata": {},
   "outputs": [
    {
     "data": {
      "image/png": "[encoded data removed]",
      "text/plain": [
       "<Figure size 576x432 with 1 Axes>"
      ]
     },
     "metadata": {
      "needs_background": "light"
     },
     "output_type": "display_data"
    }
   ],
   "source": [
    "#plotting the graph for number of authors each year\n",
    "plt.figure(figsize=(8,6))\n",
    "(df.groupby('year')['author'].count()).plot.bar();\n",
    "plt.title(\"Number of authors publishing each year\", fontsize=15);\n",
    "plt.xlabel(\"Year\", fontsize=12);\n",
    "plt.ylabel(\"Number of authors\", fontsize=12);"
   ]
  },
  {
   "cell_type": "markdown",
   "metadata": {},
   "source": [
    "The above chart shows that the highest number of working papers were published in 2013, followed by 2011. "
   ]
  },
  {
   "cell_type": "markdown",
   "metadata": {},
   "source": [
    "### EDA for authors"
   ]
  },
  {
   "cell_type": "code",
   "execution_count": 30,
   "metadata": {},
   "outputs": [
    {
     "data": {
      "text/plain": [
       "pandas.core.series.Series"
      ]
     },
     "execution_count": 30,
     "metadata": {},
     "output_type": "execute_result"
    }
   ],
   "source": [
    "#checking the type of author column\n",
    "type(df['author'])"
   ]
  },
  {
   "cell_type": "code",
   "execution_count": 31,
   "metadata": {},
   "outputs": [
    {
     "data": {
      "text/plain": [
       "[['Robert T Michael'],\n",
       " ['Merle Yahr Weiss', 'Robert E Lipsey'],\n",
       " ['Michael J Boskin'],\n",
       " ['Michael J Boskin'],\n",
       " ['Ann P Bartel'],\n",
       " ['Michael Grossman'],\n",
       " ['Merle Yahr Weiss', 'Robert E Lipsey'],\n",
       " ['Fred Goldman', 'Michael Grossman'],\n",
       " ['Michael J Boskin'],\n",
       " ['Edward P Lazear'],\n",
       " ['Edward P Lazear'],\n",
       " ['Benjamin M Friedman', 'V Vance Roley'],\n",
       " ['Eliot R J Kalter', 'Irving B Kravis', 'Robert E Lipsey'],\n",
       " ['Gary S Becker'],\n",
       " ['Martin S Feldstein'],\n",
       " ['Jerry R Green'],\n",
       " ['David G Hartman', 'Martin S Feldstein'],\n",
       " ['Ann P Bartel'],\n",
       " ['Jacob Mincer'],\n",
       " ['Martin S Feldstein'],\n",
       " ['Michael D Hurd', 'Michael J Boskin'],\n",
       " ['Benjamin M Friedman', 'V Vance Roley'],\n",
       " ['Anthony J Pellechio', 'Martin S Feldstein'],\n",
       " ['Daniel J Frisch', 'Martin S Feldstein'],\n",
       " ['William M Landes'],\n",
       " ['Victor R Fuchs'],\n",
       " ['Anthony J Pellechio', 'Martin S Feldstein'],\n",
       " ['Linda N Edwards', 'Michael Grossman'],\n",
       " ['John B Shoven'],\n",
       " ['Richard A Posner', 'William M Landes'],\n",
       " ['Benjamin M Friedman', 'Zvi Bodie'],\n",
       " ['Douglas Coate', 'Dov Chernichovsky'],\n",
       " ['Lawrence J Lau', 'Michael J Boskin'],\n",
       " ['James L Medoff'],\n",
       " ['Richard B Freeman'],\n",
       " ['Robert E Hall'],\n",
       " ['Richard A Posner', 'William M Landes'],\n",
       " ['Michael D Hurd'],\n",
       " ['Victor Zarnowitz'],\n",
       " ['Edward P Lazear', 'Robert T Michael'],\n",
       " ['Benjamin M Friedman'],\n",
       " ['Lawrence H Summers', 'Martin S Feldstein'],\n",
       " ['Joel B Slemrod', 'Martin S Feldstein'],\n",
       " ['Benjamin M Friedman'],\n",
       " ['Victor R Fuchs'],\n",
       " ['Benjamin M Friedman'],\n",
       " ['Ann D Colle', 'Michael Grossman'],\n",
       " ['Joel B Slemrod', 'Martin S Feldstein'],\n",
       " ['Richard B Freeman'],\n",
       " ['Charles E McLure, Jr', 'J Gregory Ballentine'],\n",
       " ['Richard B Freeman'],\n",
       " ['Robert J Willis', 'Sherwin Rosen'],\n",
       " ['Joel B Slemrod', 'Martin S Feldstein', 'Shlomo Yitzhaki'],\n",
       " ['Robert E Hall'],\n",
       " ['Robert E Hall'],\n",
       " ['Alan J Auerbach', 'Martin S Feldstein'],\n",
       " ['Alan J Auerbach'],\n",
       " ['Alan J Auerbach'],\n",
       " ['Linda N Edwards', 'Michael Grossman'],\n",
       " ['Joel B Slemrod'],\n",
       " ['Phillip Cagan'],\n",
       " ['Alan J Auerbach', 'Martin S Feldstein'],\n",
       " ['Benjamin M Friedman'],\n",
       " ['Robert T Michael', 'Sharon R Scott', 'Victor R Fuchs'],\n",
       " ['Richard A Posner', 'William M Landes'],\n",
       " ['David H Pyle', 'Jay B Morrison'],\n",
       " ['David F Bradford'],\n",
       " ['Anthony J Pellechio'],\n",
       " ['James L Medoff', 'Richard B Freeman'],\n",
       " ['Kim B Clark', 'Lawrence H Summers'],\n",
       " ['Martin S Feldstein'],\n",
       " ['Martin S Feldstein'],\n",
       " ['Kim B Clark', 'Lawrence H Summers'],\n",
       " ['James L Medoff', 'Katharine G Abraham'],\n",
       " ['Alan S Blinder', 'William J Newton'],\n",
       " ['Richard B Freeman'],\n",
       " ['Richard B Freeman'],\n",
       " ['Alan S Blinder'],\n",
       " ['Benjamin M Friedman'],\n",
       " ['Ann P Bartel', 'George J Borjas'],\n",
       " ['A Mitchell Polinsky'],\n",
       " ['Jacob A Frenkel'],\n",
       " ['Boyan Jovanovic', 'Jacob A Frenkel'],\n",
       " ['Jacob A Frenkel'],\n",
       " ['Jacob A Frenkel', 'Kenneth W Clements'],\n",
       " ['Richard B Freeman'],\n",
       " ['Irving B Kravis', 'Robert E Lipsey', 'Romualdo A Roldan'],\n",
       " ['Benjamin M Friedman'],\n",
       " ['Benjamin M Friedman'],\n",
       " ['Martin S Feldstein'],\n",
       " ['Charles E McLure, Jr'],\n",
       " ['George J Borjas', 'James J Heckman'],\n",
       " ['James A Wilcox', 'Robert J Gordon'],\n",
       " ['Richard B Freeman'],\n",
       " ['Lawrence H Summers'],\n",
       " ['Franco Modigliani', 'Stanley Fischer'],\n",
       " ['Jeffrey D Sachs'],\n",
       " ['James L Medoff', 'Richard B Freeman'],\n",
       " ['David M Lilien', 'Robert E Hall'],\n",
       " ['David G Hartman'],\n",
       " ['Linda N Edwards', 'Michael Grossman'],\n",
       " ['Kim B Clark', 'Richard B Freeman'],\n",
       " ['Charles Yuji Horioka', 'Martin S Feldstein'],\n",
       " ['Rudiger Dornbusch'],\n",
       " ['Lawrence H Summers', 'Martin S Feldstein'],\n",
       " ['Takatoshi Ito'],\n",
       " ['Martin S Feldstein'],\n",
       " ['Richard B Freeman'],\n",
       " ['Richard B Freeman'],\n",
       " ['Charles E McLure, Jr'],\n",
       " ['Victor Zarnowitz'],\n",
       " ['Harvey S Rosen', 'Kenneth A Small'],\n",
       " ['Seppo Honkapohja', 'Takatoshi Ito'],\n",
       " ['Alan J Auerbach', 'Mervyn A King'],\n",
       " ['Gary Chamberlain'],\n",
       " ['Robert J Barro'],\n",
       " ['Rudiger Dornbusch', 'Stanley Fischer'],\n",
       " ['Robert J Barro', 'Zvi Hercowitz'],\n",
       " ['Kim B Clark'],\n",
       " ['Stanley Fischer'],\n",
       " ['Kim B Clark'],\n",
       " ['Paul R Krugman'],\n",
       " ['Martin S Feldstein'],\n",
       " ['Willem H Buiter'],\n",
       " ['Richard M Levich'],\n",
       " ['A Thomas King', 'Don Fullterton', 'John B Shoven', 'John Whalley'],\n",
       " ['A Mitchell Polinsky'],\n",
       " ['Mark Rush', 'Robert J Barro'],\n",
       " ['Jeffrey D Sachs', 'Michael Bruno'],\n",
       " ['Stanley Fischer'],\n",
       " ['David A Wise', 'Robert H Meyer'],\n",
       " ['A Monfort', 'C Gourieroux', 'Jean-Jacques Laffont'],\n",
       " ['Ariel Pakes'],\n",
       " ['Benjamin M Friedman', 'V Vance Roley'],\n",
       " ['Ariel Pakes', 'Mark Schankerman'],\n",
       " ['Robert J Shiller'],\n",
       " ['David F Bradford'],\n",
       " ['Ariel Pakes', 'Benjamin Eden'],\n",
       " ['Willem H Buiter'],\n",
       " ['Charles C Brown'],\n",
       " ['Lawrence H Summers'],\n",
       " ['Martin S Feldstein'],\n",
       " ['Paul R Krugman'],\n",
       " ['Boyan Jovanovic', 'Jacob Mincer'],\n",
       " ['M Ishaq Nadiri', 'Mark Schankerman'],\n",
       " ['M Ishaq Nadiri', 'Sebastian Arango'],\n",
       " ['M Ishaq Nadiri'],\n",
       " ['Robert J Gordon'],\n",
       " ['Avia Spivak', 'Laurence J Kotlikoff'],\n",
       " ['James L Medoff', 'Katharine G Abraham'],\n",
       " ['James L Medoff', 'Richard B Freeman'],\n",
       " ['Richard B Freeman'],\n",
       " ['Benjamin M Friedman'],\n",
       " ['Jacques R Artus', 'John H Young'],\n",
       " ['Eytan Sheshinski', 'Michael J Boskin'],\n",
       " ['Knut Anton Mork', 'Robert E Hall'],\n",
       " ['Patric H Hendershott'],\n",
       " ['W Kip Viscusi'],\n",
       " ['Robert J Willis'],\n",
       " ['Zvi Bodie'],\n",
       " ['Georgia C Villaflor', 'Kenneth L Sokoloff'],\n",
       " ['Claudia D Goldin'],\n",
       " ['J Peter Neary', 'Joseph E Stiglitz'],\n",
       " ['John R Martin', 'Paul R Masson'],\n",
       " ['Jacob Mincer', 'Linda S Leighton'],\n",
       " ['Charles Freedman'],\n",
       " ['Alan S Blinder', 'Stanley Fischer'],\n",
       " ['Jeffrey D Sachs', 'Michael Bruno'],\n",
       " ['Patric H Hendershott', 'Sheng Cheng Hu'],\n",
       " ['Choongsoo Kim', 'Michael L Wachter'],\n",
       " ['Robert E Hall'],\n",
       " ['Robert E Hall'],\n",
       " ['Harvey S Rosen', 'Jonathan Eaton'],\n",
       " ['Dennis Warner', 'Hannu Halttunen'],\n",
       " ['Dennis Warner', 'Hannu Halttunen'],\n",
       " ['Richard C Marston'],\n",
       " ['David T Ellwood', 'Martin S Feldstein'],\n",
       " ['W Kip Viscusi'],\n",
       " ['Martin S Feldstein'],\n",
       " ['Albert E Rees', 'Wayne B Gray'],\n",
       " ['Wolfgang Franz'],\n",
       " ['Linda N Edwards', 'Michael Grossman'],\n",
       " ['David T Ellwood'],\n",
       " ['Richard B Freeman'],\n",
       " ['Edward P Lazear', 'Sherwin Rosen'],\n",
       " ['Jeremy I Bulow'],\n",
       " ['Martin S Feldstein'],\n",
       " ['Alan J Auerbach', 'Lawrence H Summers'],\n",
       " ['Eytan Sheshinski', 'Yoram Weiss'],\n",
       " ['Julio J Rotemberg', 'William H Branson'],\n",
       " ['Jacob A Frenkel', 'John F O Bilson'],\n",
       " ['Robert J Gordon'],\n",
       " ['David F Bradford', 'Roger H Gordon'],\n",
       " ['James E Pesando'],\n",
       " ['Harvey S Rosen'],\n",
       " ['Willem H Buiter'],\n",
       " ['Jerry R Green', 'Martin S Feldstein'],\n",
       " ['Ray C* Fair'],\n",
       " ['Alan L Gustman', 'Thomas L Steinmeier'],\n",
       " ['Douglas Coate', 'Dov Chernichovsky'],\n",
       " ['Gilbert R Ghez', 'Michael Grossman'],\n",
       " ['Robert J Gordon'],\n",
       " ['Richard H Thaler', 'William Gould'],\n",
       " ['A Mitchell Polinsky'],\n",
       " ['Thomas E MaCurdy'],\n",
       " ['Martin S Feldstein'],\n",
       " ['M Ishaq Nadiri'],\n",
       " ['Herschel I Grossman'],\n",
       " ['Dennis W Carlton'],\n",
       " ['Craig S Hakkio'],\n",
       " ['Robert J Gordon'],\n",
       " ['Mervyn A King'],\n",
       " ['Jacob A Frenkel', 'Kenneth W Clements'],\n",
       " ['Christopher A Sims'],\n",
       " ['Zvi Hercowitz'],\n",
       " ['Robert J Barro'],\n",
       " ['Zvi Hercowitz'],\n",
       " ['Zvi Griliches'],\n",
       " ['Martin S Feldstein'],\n",
       " ['Geoffrey Heal', 'Joseph E Stiglitz', 'Partha Dasgupta'],\n",
       " ['Michael R Darby'],\n",
       " ['Ariel Pakes', 'Mark Schankerman'],\n",
       " ['Craig S Hakkio'],\n",
       " ['Jonathan S Leonard'],\n",
       " ['Jacob Mincer', 'Linda S Leighton'],\n",
       " ['Zvi Bodie'],\n",
       " ['Robert J Barro'],\n",
       " ['Robert C Merton'],\n",
       " ['Richard B Freeman'],\n",
       " ['Patric H Hendershott'],\n",
       " ['Martin S Feldstein'],\n",
       " ['Michael R Darby'],\n",
       " ['Jacob A Frenkel'],\n",
       " ['Robert A Shakotko'],\n",
       " ['Jacob A Frenkel'],\n",
       " ['Jean-Jacques Laffont', 'Jerry R Green'],\n",
       " ['Linda N Edwards', 'Michael Grossman', 'Robert A Shakotko'],\n",
       " ['Robert J Gordon'],\n",
       " ['Robert J Shiller'],\n",
       " ['Alan J Auerbach'],\n",
       " ['Benjamin M Friedman'],\n",
       " ['Robert J Gordon'],\n",
       " ['Alan S Blinder'],\n",
       " ['Anne O Krueger'],\n",
       " ['Alan C Stockman', 'Michael R Darby'],\n",
       " ['A Mitchell Polinsky'],\n",
       " ['Alan S Blinder'],\n",
       " ['Mervyn A King'],\n",
       " ['Anne O Krueger'],\n",
       " ['Don Fullterton'],\n",
       " ['Mervyn A King'],\n",
       " ['William H Branson'],\n",
       " ['Edward J Kane'],\n",
       " ['Burton G Malkiel', 'John G Cragg'],\n",
       " ['Rudiger Dornbusch'],\n",
       " ['Rudiger Dornbusch'],\n",
       " ['John F O Bilson'],\n",
       " ['Anne O Krueger'],\n",
       " ['Jacob A Frenkel', 'Michael L Mussa'],\n",
       " ['Martin S Feldstein'],\n",
       " ['Alan L Gustman', 'Thomas L Steinmeier'],\n",
       " ['Haim Ofek', 'Jacob Mincer'],\n",
       " ['Mark Gersovitz'],\n",
       " ['Paul Grier', 'Paul Strebel'],\n",
       " ['Irving B Kravis', 'Robert E Lipsey'],\n",
       " ['Alan J Auerbach'],\n",
       " ['John F Cogaj'],\n",
       " ['Maurice Obstfeld'],\n",
       " ['Victor R Fuchs'],\n",
       " ['Charles M Becker', 'Don Fullterton'],\n",
       " ['Alan S Blinder'],\n",
       " ['Christopher A Sims'],\n",
       " ['Robert J Barro'],\n",
       " ['Alan J Auerbach', 'Jerry R Green'],\n",
       " ['Richard C Marston'],\n",
       " ['Rudiger Dornbusch'],\n",
       " ['Maurice Obstfeld'],\n",
       " ['Alan J Auerbach', 'Harvey S Rosen'],\n",
       " ['Jerry R Green'],\n",
       " ['Daniel R Feenberg', 'Harvey S Rosen'],\n",
       " ['Herschel I Grossman', 'John F Boschen'],\n",
       " ['Joseph E Stiglitz'],\n",
       " ['Nancy Peregrim Marion', 'Robert P Flood'],\n",
       " ['Louka T Katseli', 'Nancy Peregrim Marion'],\n",
       " ['Ben S Bernanke'],\n",
       " ['Dennis W Carlton'],\n",
       " ['Charles E McLure, Jr'],\n",
       " ['Frederic S Mishkin', 'Robert E Hall'],\n",
       " ['Frederic S Mishkin'],\n",
       " ['Frederic S Mishkin'],\n",
       " ['James M Poterba', 'Martin S Feldstein'],\n",
       " ['Martin S Feldstein', 'Stephanie Seligman'],\n",
       " ['Bernard Friedman'],\n",
       " ['J Weinblatt', 'Robert E Lipsey'],\n",
       " ['Alan L Gustman'],\n",
       " ['Alan S Blinder', 'Roger H Gordon'],\n",
       " ['Kim B Clark', 'Lawrence H Summers'],\n",
       " ['Alan S Blinder'],\n",
       " ['Willem H Buiter'],\n",
       " ['Frederic S Mishkin'],\n",
       " ['Zvi Hercowitz'],\n",
       " ['Daniel S Hamermesh', 'James H Grant'],\n",
       " ['Don Fullterton'],\n",
       " ['Dennis M Bushe', 'Irving B Kravis', 'Robert E Lipsey'],\n",
       " ['Michael Bruno'],\n",
       " ['Joseph E Stiglitz', 'Richard J Arnott'],\n",
       " ['Jack Carr', 'Michael R Darby'],\n",
       " ['Phillip Cagan'],\n",
       " ['Martin S Feldstein'],\n",
       " ['Jorge Braga de Macedo', 'William H Branson'],\n",
       " ['Maurice Obstfeld'],\n",
       " ['Claudia D Goldin'],\n",
       " ['Daniel R Feenberg'],\n",
       " ['Jonathan Eaton', 'Willem H Buiter'],\n",
       " ['Anne O Krueger', 'Baran Tuncer'],\n",
       " ['Fischer Black'],\n",
       " ['Herschel I Grossman'],\n",
       " ['Charles Freedman', 'David Longworth'],\n",
       " ['Gary G Schlarbau', 'Kenneth L Stanley', 'Wilbur G Lewehlen'],\n",
       " ['Maurice Obstfeld', 'Robert E Cumby'],\n",
       " ['Ray C* Fair'],\n",
       " ['Victor R Fuchs'],\n",
       " ['Maurice Obstfeld'],\n",
       " ['Eliana A Cardoso', 'Rudiger Dornbusch'],\n",
       " ['David S Jones'],\n",
       " ['James D Shilling', 'Patric H Hendershott'],\n",
       " ['Peter M Garber', 'Robert P Flood'],\n",
       " ['Ian Jewitt', 'Willem H Buiter'],\n",
       " ['Alan J Auerbach', 'Mervyn A King'],\n",
       " ['Alan J Auerbach'],\n",
       " ['Daniel S Hamermesh'],\n",
       " ['Anthony Cassese', 'James R Lothian'],\n",
       " ['Jon Frye', 'Robert J Gordon'],\n",
       " ['Jon Frye', 'Robert J Gordon'],\n",
       " ['Ann P Bartel'],\n",
       " ['James M Poterba'],\n",
       " ['Paul R Krugman'],\n",
       " ['Rudiger Dornbusch'],\n",
       " ['J David Richardson'],\n",
       " ['Maurice Obstfeld'],\n",
       " ['Herschel I Grossman', 'John F Boschen'],\n",
       " ['Bennett T McCallum'],\n",
       " ['Robert E Hall'],\n",
       " ['Ariel Pakes', 'Zvi Griliches'],\n",
       " ['Alan S Blinder', 'Donald E Wise', 'Roger H Gordon'],\n",
       " ['Robert J Shiller'],\n",
       " ['Robert J Shiller', 'Sanford J Grossman'],\n",
       " ['Robert J Shiller'],\n",
       " ['Carl E Walsh'],\n",
       " ['Rudiger Dornbusch'],\n",
       " ['Martin S Feldstein'],\n",
       " ['Jacob A Frenkel'],\n",
       " ['James N Dertouzos', 'John H Pencavel'],\n",
       " ['Bryce Hool', 'J David Richardson'],\n",
       " ['David Lipton', 'Jeffrey D Sachs'],\n",
       " ['David S Jones'],\n",
       " ['David S Jones'],\n",
       " ['Jacob A Frenkel', 'Michael L Mussa'],\n",
       " ['Burton G Malkiel', 'Roger H Gordon'],\n",
       " ['Martin S Feldstein'],\n",
       " ['Wolfgang Franz'],\n",
       " ['Martin S Feldstein'],\n",
       " ['Willem H Buiter'],\n",
       " ['David G Hartman'],\n",
       " ['Jeffrey D Sachs'],\n",
       " ['Kenneth Cone', 'Marcy Avrin', 'Michael J Boskin'],\n",
       " ['Victor R Fuchs'],\n",
       " ['Michael R Darby'],\n",
       " ['V Vance Roley'],\n",
       " ['Benjamin M Friedman'],\n",
       " ['Roger H Gordon'],\n",
       " ['Michael R Darby'],\n",
       " ['Clarice Pechman',\n",
       "  'Daniel Valente Dantas',\n",
       "  'Demetrio Simoes',\n",
       "  'Roberto de Rezende Rocha',\n",
       "  'Rudiger Dornbusch'],\n",
       " ['Marcus H Miller', 'Willem H Buiter'],\n",
       " ['Douglas D Purvis', 'Willem H Buiter'],\n",
       " ['V Vance Roley'],\n",
       " ['Robert A Taggart, Jr'],\n",
       " ['James E Pesando'],\n",
       " ['Andrew B Abel'],\n",
       " ['M Ishaq Nadiri', 'Mark Schankerman'],\n",
       " ['David G Hartman'],\n",
       " ['Maurice Obstfeld'],\n",
       " ['Daniel S Hamermesh'],\n",
       " ['Willem H Buiter'],\n",
       " ['Arthur E Gandolfi', 'James R Lothian'],\n",
       " ['James N Brown'],\n",
       " ['Lawrence H Summers'],\n",
       " ['Lawrence H Summers'],\n",
       " ['Lawrence H Summers'],\n",
       " ['Michael R Darby'],\n",
       " ['Victor Zarnowitz'],\n",
       " ['Michael Grossman', 'Robert A Shakotko'],\n",
       " ['Jerry A Hausman'],\n",
       " ['Paul J Taubman', 'Sherwin Rosen'],\n",
       " ['Donald S Shepard', 'Richard J Zeckhauser'],\n",
       " ['Lawrence B Lindsey'],\n",
       " ['Louis Dicks-Mireaux', 'Mervyn A King'],\n",
       " ['Michael Grossman', 'Steven Jacobowitz'],\n",
       " ['Charles E McLure, Jr'],\n",
       " ['Charles C Brown'],\n",
       " ['James L Medoff', 'Katharine G Abraham'],\n",
       " ['Alan S Blinder', 'Donald E Wise', 'Roger H Gordon'],\n",
       " ['Alan S Blinder'],\n",
       " ['Robert J Gordon'],\n",
       " ['Frederic S Mishkin'],\n",
       " ['Thomas E MaCurdy'],\n",
       " ['Robert P Flood'],\n",
       " ['Peter M Garber', 'Robert P Flood'],\n",
       " ['Laurence J Kotlikoff', 'Lawrence H Summers'],\n",
       " ['Paul Strebel', 'Shabtai Donnenfeld'],\n",
       " ['Michael R Darby'],\n",
       " ['Bennett T McCallum'],\n",
       " ['Fischer Black'],\n",
       " ['Joseph E Stiglitz'],\n",
       " ['Harry J Holzer'],\n",
       " ['James L Medoff', 'Katharine G Abraham'],\n",
       " ['Peter M Garber', 'Robert P Flood'],\n",
       " ['Robert J Barro'],\n",
       " ['David F Bradford'],\n",
       " ['Edward J Kane'],\n",
       " ['Edward J Kane'],\n",
       " ['Edward J Kane'],\n",
       " ['Birgitta Swedenborg', 'Robert E Lipsey'],\n",
       " ['Alan L Gustman', 'Thomas L Steinmeier'],\n",
       " ['Pentti J K Kouri'],\n",
       " ['Pentti J K Kouri'],\n",
       " ['Benjamin M Friedman'],\n",
       " ['Thomas E MaCurdy'],\n",
       " ['John H Makin'],\n",
       " ['John H Makin'],\n",
       " ['Patrick J Hess'],\n",
       " ['Charles Freedman'],\n",
       " ['Paul R Krugman'],\n",
       " ['Herschel I Grossman', 'John F Boschen'],\n",
       " ['Herschel I Grossman'],\n",
       " ['Jeremy I Bulow'],\n",
       " ['Douglas Coate', 'Eugene M Lewit', 'Michael Grossman'],\n",
       " ['Daniel S Hamermesh'],\n",
       " ['Harvey S Rosen'],\n",
       " ['Paul R Krugman'],\n",
       " ['Michael D Hurd', 'Michael J Boskin'],\n",
       " ['Michael Bruno'],\n",
       " ['Irwin Tepper'],\n",
       " ['Steven Shavell'],\n",
       " ['Joon Koo Lee'],\n",
       " ['John F O Bilson'],\n",
       " ['Victor Zarnowitz'],\n",
       " ['Louka T Katseli', 'William H Branson'],\n",
       " ['Yoram Weiss'],\n",
       " ['Reuben Gronau'],\n",
       " ['Charles C Brown'],\n",
       " ['Stanley Fischer'],\n",
       " ['Frank R Lichtenberg'],\n",
       " ['Edward P Lazear'],\n",
       " ['Don Fullterton', 'Roger H Gordon'],\n",
       " ['Casey Ichniowski'],\n",
       " ['Charles M Kahn', 'Jerry R Green'],\n",
       " ['Allan Drazen', 'Daniel S Hamermesh', 'Norman P Obst'],\n",
       " ['Ray C* Fair'],\n",
       " ['Joseph E Stiglitz'],\n",
       " ['Martin S Feldstein'],\n",
       " ['Martin S Feldstein'],\n",
       " ['Daniel R Feenberg', 'Martin S Feldstein'],\n",
       " ['Lawrence B Lindsey', 'Martin S Feldstein'],\n",
       " ['John F Cogan'],\n",
       " ['Bennett T McCallum'],\n",
       " ['Maurice Obstfeld'],\n",
       " ['Maurice Obstfeld'],\n",
       " ['Roger H Gordon'],\n",
       " ['David F Bradford', 'Don Fullterton'],\n",
       " ['David G Hartman'],\n",
       " ['Robert J Shiller', 'Sanford J Grossman'],\n",
       " ['Peter M Garber', 'Robert P Flood'],\n",
       " ['Clayne L Pope', 'J R Kearl'],\n",
       " ['Frederic S Mishkin'],\n",
       " ['Joseph E Stiglitz'],\n",
       " ['Herschel I Grossman'],\n",
       " ['Ray C* Fair'],\n",
       " ['Richard B Freeman'],\n",
       " ['E John Driffill', 'Harvey S Rosen'],\n",
       " ['Patric H Hendershott'],\n",
       " ['Burton G Malkiel'],\n",
       " ['Zvi Bodie'],\n",
       " ['John H Ciccolo, Jr'],\n",
       " ['Martin S Feldstein'],\n",
       " ['Benjamin M Friedman'],\n",
       " ['Richard C Marston'],\n",
       " ['Shelly J Lundberg'],\n",
       " ['Claudia D Goldin', 'Donald O Parsons'],\n",
       " ['Robert J Gordon'],\n",
       " ['David A Wise', 'Steven F Venti'],\n",
       " ['David A Wise', 'Steven F Venti'],\n",
       " ['David A Wise', 'Robert H Meyer'],\n",
       " ['Ben S Bernanke'],\n",
       " ['Alan C Stockman'],\n",
       " ['A Mitchell Polinsky'],\n",
       " ['J David Richardson'],\n",
       " ['Ray C* Fair'],\n",
       " ['Joshua L Schwarz', 'Ronald G Ehrenberg'],\n",
       " ['Patric H Hendershott', 'Sheng Cheng Hu'],\n",
       " ['David S Jones'],\n",
       " ['Robert E Hall'],\n",
       " ['Jerry R Green', 'Seppo Honkapohja'],\n",
       " ['Claudia D Goldin', 'Kenneth L Sokoloff'],\n",
       " ['Maurice Obstfeld'],\n",
       " ['Jeremy I Bulow'],\n",
       " ['Kevin E Villani', 'Patric H Hendershott'],\n",
       " ['Andrew B Abel', 'Frederic S Mishkin'],\n",
       " ['Steven Shavell'],\n",
       " ['Peter M Garber'],\n",
       " ['Alan J Auerbach', 'Laurence J Kotlikoff'],\n",
       " ['Alan J Auerbach', 'Laurence J Kotlikoff'],\n",
       " ['Edward J Kane'],\n",
       " ['Carl E Walsh'],\n",
       " ['Harvey S Rosen'],\n",
       " ['James L Medoff', 'Richard B Freeman'],\n",
       " ['David Winter', 'John Burkett', 'Richard Portes'],\n",
       " ['Robert A Taggart, Jr', 'Yair E Orgler'],\n",
       " ['Kevin E Villani', 'Patric H Hendershott'],\n",
       " ['Kevin E Villani', 'Patric H Hendershott'],\n",
       " ['James M Poterba', 'Louis Dicks-Mireaux', 'Martin S Feldstein'],\n",
       " ['Steven Shavell'],\n",
       " ['A Mitchell Polinsky', 'Steven Shavell'],\n",
       " ['Robert C Merton'],\n",
       " ['Robert J Gordon'],\n",
       " ['Benjamin M Friedman'],\n",
       " ['Charles E McLure, Jr'],\n",
       " ['Lemma W Senbet', 'Robert A Taggart, Jr'],\n",
       " ['Jacob A Frenkel', 'Joshua Aizenman'],\n",
       " ['Marcus H Miller', 'Willem H Buiter'],\n",
       " ['Richard B Freeman'],\n",
       " ['Richard B Freeman'],\n",
       " ['Richard B Freeman'],\n",
       " ['Martin S Feldstein'],\n",
       " ['Clayne L Pope', 'J R Kearl'],\n",
       " ['Patric H Hendershott', 'Sheng Cheng Hu'],\n",
       " ['Ben S Bernanke'],\n",
       " ['Lawrence H Summers', 'Michael A Salinger'],\n",
       " ['Daniel J Kovenock', 'Michael Rothschild'],\n",
       " ['Nancy Peregrim Marion'],\n",
       " ['John H Makin'],\n",
       " ['Alan J Auerbach'],\n",
       " ['Steven N Kaplan'],\n",
       " ['Alan L Gustman', 'Thomas L Steinmeier'],\n",
       " ['Douglas Coate', 'Eugene M Lewit'],\n",
       " ['Casey Ichniowski', 'Richard B Freeman', 'Wayne B Gray'],\n",
       " ['Craig S Hakkio'],\n",
       " ['James E Pesando'],\n",
       " ['Phillip Farrell', 'Victor R Fuchs'],\n",
       " ['Casey Ichniowski'],\n",
       " ['Maurice Obstfeld', 'Robert E Cumby'],\n",
       " ['Daniel S Hamermesh'],\n",
       " ['Gary S Fields', 'Olivia S Mitchell'],\n",
       " ['Edward E Leamer', 'Jeffrey D Sachs', 'Laurence J Kotlikoff'],\n",
       " ['Irving B Kravis', 'Robert E Lipsey'],\n",
       " ['Charles Freedman'],\n",
       " ['Jorge Braga de Macedo'],\n",
       " ['Harvey S Rosen', 'Jonathan Eaton'],\n",
       " ['John H Pencavel'],\n",
       " ['Rudiger Dornbusch'],\n",
       " ['Michael Grossman'],\n",
       " ['James L Medoff', 'Katharine G Abraham'],\n",
       " ['Richard Portes'],\n",
       " ['Stanley Fischer'],\n",
       " ['David G Hartman'],\n",
       " ['Michael Bruno'],\n",
       " ['Ariel Pakes'],\n",
       " ['Martin S Feldstein'],\n",
       " ['Jerry A Hausman'],\n",
       " ['Frederic S Mishkin'],\n",
       " ['Andrew Kohen', 'Charles C Brown', 'Curtis Gilroy'],\n",
       " ['William H Branson'],\n",
       " ['Rudiger Dornbusch'],\n",
       " ['Richard C Marston'],\n",
       " ['Avinash K Dixit', 'Gene M Grossman'],\n",
       " ['Claudia D Goldin', 'Kenneth L Sokoloff'],\n",
       " ['Jeffrey D Sachs'],\n",
       " ['Gene M Grossman', 'Jonathan Eaton'],\n",
       " ['Daniel J Frisch'],\n",
       " ['Joel B Slemrod'],\n",
       " ['Gary Burtless', 'Jerry A Hausman'],\n",
       " ['William H Branson'],\n",
       " ['Joseph E Stiglitz'],\n",
       " ['Jacob Mincer'],\n",
       " ['Jacob Mincer'],\n",
       " ['Paul L Schumann', 'Ronald G Ehrenberg'],\n",
       " ['Alan J Auerbach'],\n",
       " ['David B Gordon', 'Robert J Barro'],\n",
       " ['Jacob Mincer'],\n",
       " ['Robert J Gordon'],\n",
       " ['Robert A Taggart, Jr'],\n",
       " ['Paul J Taubman'],\n",
       " ['Herschel I Grossman', 'John F Boschen'],\n",
       " ['Frederic P Slade'],\n",
       " ['Michael Bruno'],\n",
       " ['Paul L Schumann', 'Ronald G Ehrenberg'],\n",
       " ['Richard B Freeman'],\n",
       " ['Alan J Auerbach'],\n",
       " ['John H Makin'],\n",
       " ['Alan J Auerbach', 'Jonathan S Skinner', 'Laurence J Kotlikoff'],\n",
       " ['Richard B Freeman'],\n",
       " ['Daniel S Hamermesh'],\n",
       " ['Lawrence B Lindsey'],\n",
       " ['Peter M Garber'],\n",
       " ['Lawrence H Summers'],\n",
       " ['James D Shilling', 'Patric H Hendershott'],\n",
       " ['Jacques Mairesse', 'Zvi Griliches'],\n",
       " ['Robert S Smith', 'Ronald G Ehrenberg'],\n",
       " ['Don Fullterton', 'Yolanda K Henderson'],\n",
       " ['James M Poterba', 'Lawrence H Summers'],\n",
       " ['Benjamin M Friedman'],\n",
       " ['Benjamin M Friedman'],\n",
       " ['Carlos A Rodriguez', 'Jacob A Frenkel'],\n",
       " ['Maurice Obstfeld'],\n",
       " ['Maurice Obstfeld'],\n",
       " ['Daniel S Hamermesh'],\n",
       " ['Lawrence H Summers'],\n",
       " ['James L Medoff', 'Richard B Freeman'],\n",
       " ['Robert J Shiller'],\n",
       " ['Lars E O Svensson', 'Nancy Peregrim Marion'],\n",
       " ['Louis O Scott', 'Peter M Garber', 'Robert P Flood'],\n",
       " ['David A Hsieh'],\n",
       " ['David A Hsieh'],\n",
       " ['Olivia S Mitchell'],\n",
       " ['Victor Zarnowitz'],\n",
       " ['Andrew Kohen', 'Charles C Brown', 'Curtis Gilroy'],\n",
       " ['Robert J Gordon'],\n",
       " ['Alan J Auerbach'],\n",
       " ['David A Wise', 'Robert H Meyer'],\n",
       " ['Frank R Lichtenberg', 'Zvi Griliches'],\n",
       " ['Jeffrey D Sachs', 'Michael Bruno'],\n",
       " ['Jeffrey D Sachs', 'Michael Bruno'],\n",
       " ['Charles I Plosser', 'Robert G King'],\n",
       " ['Edward P Lazear'],\n",
       " ['Kenneth S Rogoff', 'Maurice Obstfeld'],\n",
       " ['Christopher J Flinn', 'James J Heckman'],\n",
       " ['Christopher J Flinn', 'James J Heckman'],\n",
       " ['James J Heckman', 'Thomas E MaCurdy'],\n",
       " ['Jeffrey D Sachs'],\n",
       " ['Frederic P Slade'],\n",
       " ['Jeffrey D Sachs'],\n",
       " ['Jeffrey D Sachs'],\n",
       " ['Peter R Hartley'],\n",
       " ['Edward P Lazear', 'Robert E Hall'],\n",
       " ['Craig S Hakkio'],\n",
       " ['Robert A Taggart, Jr'],\n",
       " ['Willem H Buiter'],\n",
       " ['Pentti J K Kouri'],\n",
       " ['David S Jones', 'V Vance Roley'],\n",
       " ['John H Pencavel'],\n",
       " ['Ariel Pakes', 'Shmuel Nitzan'],\n",
       " ['Daniel R Feenberg'],\n",
       " ['Alan S Blinder', 'N Gregory Mankiw'],\n",
       " ['Stanley Fischer'],\n",
       " ['Friedrich Breyer', 'Victor R Fuchs'],\n",
       " ['Gary S Fields', 'Olivia S Mitchell'],\n",
       " ['Martin S Feldstein'],\n",
       " ['Mary Eccles', 'Richard B Freeman'],\n",
       " ['Eric Seiler'],\n",
       " ['Richard H Steckel'],\n",
       " ['Richard H Steckel'],\n",
       " ['Fumio Hayashi'],\n",
       " ['Robert J Barro'],\n",
       " ['Nicholas S Majluf', 'Stewart C Myers'],\n",
       " ['Andrew B Abel', 'Olivier Jean Blanchard'],\n",
       " ['Benjamin M Friedman'],\n",
       " ['Joel B Slemrod'],\n",
       " ['Robert G King', 'Robert J Barro'],\n",
       " ['Robert J Barro'],\n",
       " ['James Trussell',\n",
       "  'Richard H Steckel',\n",
       "  'Robert W Fogel',\n",
       "  'Roderick Floud',\n",
       "  'Stanley L Engerman'],\n",
       " ['Olivier Jean Blanchard'],\n",
       " ['Don Fullterton', 'John B Shoven', 'John Whalley'],\n",
       " ['Bennett T McCallum', 'James G Hoehn'],\n",
       " ['Bennett T McCallum'],\n",
       " ['Ernst R Berndt', 'Melvyn A Fuss'],\n",
       " ['James E Pesando', 'Zvi Bodie'],\n",
       " ['Jeremy I Bulow', 'Lawrence H Summers'],\n",
       " ['Julio J Rotemberg', 'Lawrence H Summers', 'N Gregory Mankiw'],\n",
       " ['Gene M Grossman'],\n",
       " ['Olivier Jean Blanchard'],\n",
       " ['Willem H Buiter', 'William H Branson'],\n",
       " ['Alan S Blinder'],\n",
       " ['Louis Dicks-Mireaux', 'Mervyn A King'],\n",
       " ['John F Helliwell', 'Paul M Boothe'],\n",
       " ['Bennett T McCallum'],\n",
       " ['John H Makin', 'Richard Hartman'],\n",
       " ['Fred Goldman', 'Michael Grossman'],\n",
       " ['Adam B Jaffe',\n",
       "  'Bronwyn H Hall',\n",
       "  'Clint Cummins',\n",
       "  'John Bound',\n",
       "  'Zvi Griliches'],\n",
       " ['William H Branson'],\n",
       " ['Robert C Merton'],\n",
       " ['Don Fullterton', 'John B Shoven', 'Yolanda K Henderson'],\n",
       " ['Robert B Litterman'],\n",
       " ['Gary Chamberlain'],\n",
       " ['John B Shoven', 'Michael D Hurd'],\n",
       " ['Carl E Walsh'],\n",
       " ['Kim B Clark', 'Zvi Griliches'],\n",
       " ['Benjamin M Friedman'],\n",
       " ['Kevin E Villani', 'Patric H Hendershott', 'Sheng Cheng Hu'],\n",
       " ['John B Shoven', 'John Whalley', 'Lawrence H Goulder'],\n",
       " ['Kim B Clark', 'Lawrence H Summers'],\n",
       " ['Maurice Obstfeld', 'Robert E Cumby'],\n",
       " ['Stanley Fischer'],\n",
       " ['Jongmoo Jay Choi', 'M Ishaq Nadiri'],\n",
       " ['Jeremy I Bulow', 'Myron S Scholes'],\n",
       " ['Daniel Cohen', 'Jeffrey D Sachs'],\n",
       " ['Jacques R Artus'],\n",
       " ['Jeremy I Bulow', 'Myron S Scholes', 'Peter Menell'],\n",
       " ['Richard B Freeman'],\n",
       " ['Joel B Slemrod', 'Patric H Hendershott'],\n",
       " ['Daniel S Hamermesh'],\n",
       " ['M Ishaq Nadiri', 'Mark Schankerman'],\n",
       " ['A Mitchell Polinsky', 'Steven Shavell'],\n",
       " ['Ariel Pakes', 'Zvi Griliches'],\n",
       " ['Herschel I Grossman'],\n",
       " ['J Michael Harrison', 'William F Sharpe'],\n",
       " ['Stanley Fischer'],\n",
       " ['A Mitchell Polinsky', 'William P Rogerson'],\n",
       " ['Martin S Feldstein', 'Randall K Morck'],\n",
       " ['Steven Shavell'],\n",
       " ['Alan L Gustman', 'Thomas L Steinmeier'],\n",
       " ['Geoffrey H Moore', 'Philip A Klein'],\n",
       " ['Michael Bruno'],\n",
       " ['Michael D Hurd', 'Michael J Boskin'],\n",
       " ['Edward P Lazear'],\n",
       " ['Mark W Watson', 'Olivier Jean Blanchard'],\n",
       " ['David S Salkever'],\n",
       " ['Martin S Feldstein'],\n",
       " ['Martin S Feldstein', 'Shlomo Yitzhaki'],\n",
       " ['John F Helliwell', 'Thorvaldur Gylfason'],\n",
       " ['Fischer Black'],\n",
       " ['Joel B Slemrod'],\n",
       " ['John J Beggs'],\n",
       " ['Ann P Bartel', 'Lacy Glenn Thomas'],\n",
       " ['Joseph E Stiglitz'],\n",
       " ['Alan J Auerbach'],\n",
       " ['James E Pesando'],\n",
       " ['Benjamin M Friedman'],\n",
       " ['Douglas K Pearce', 'V Vance Roley'],\n",
       " ['Jorge Braga de Macedo'],\n",
       " ['David M Meerschwam', 'Jeffrey A Goldstein', 'Jorge Braga de Macedo'],\n",
       " ['Jacques Mairesse', 'Zvi Griliches'],\n",
       " ['Louis Dicks-Mireaux', 'Mervyn A King'],\n",
       " ['Maurice Obstfeld'],\n",
       " ['Laurence J Kotlikoff'],\n",
       " ['Robert L McDonald'],\n",
       " ['Martin S Feldstein'],\n",
       " ['David G Hartman'],\n",
       " ['Alan K Siu', 'Jacques Mairesse'],\n",
       " ['Martin S Feldstein'],\n",
       " ['Martin S Feldstein'],\n",
       " ['Jeffrey D Sachs', 'Olivier Jean Blanchard'],\n",
       " ['Jonathan Eaton', 'Mark Gersovitz'],\n",
       " ['Laurence Weiss', 'Sanford J Grossman'],\n",
       " ['Sanford J Grossman'],\n",
       " ['Eric Maskin', 'Oliver D Hart', 'Sanford J Grossman'],\n",
       " ['Daniel S Hamermesh'],\n",
       " ['Kim B Clark', 'Lawrence H Summers'],\n",
       " ['Julio J Rotemberg'],\n",
       " ['Christopher J Flinn', 'James J Heckman'],\n",
       " ['Benjamin M Friedman'],\n",
       " ['Oli Havrylyshyn', 'Vittorio Corbo'],\n",
       " ['Alan S Blinder'],\n",
       " ['Rudiger Dornbusch'],\n",
       " ['Jonathan Eaton', 'Stephen J Turnovsky'],\n",
       " ['John B Taylor'],\n",
       " ['Roger H Gordon'],\n",
       " ['Lars E O Svensson', 'Paul R Krugman', 'Torsten Persson'],\n",
       " ['Daniel R Feenberg'],\n",
       " ['Bennett T McCallum'],\n",
       " ['Kim B Clark'],\n",
       " ['Lars E O Svensson'],\n",
       " ['Lars E O Svensson'],\n",
       " ['John H Makin'],\n",
       " ['Lawrence H Summers'],\n",
       " ['Lawrence H Summers'],\n",
       " ['Gary Chamberlain', 'Michael Rothschild'],\n",
       " ['Lars E O Svensson', 'Nancy Peregrim Marion'],\n",
       " ['Gee San', 'Leif Danziger', 'Ronald G Ehrenberg'],\n",
       " ['Lars E O Svensson'],\n",
       " ['Alan L Gustman', 'Thomas L Steinmeier'],\n",
       " ['V Vance Roley'],\n",
       " ['Reuben Gronau'],\n",
       " ['Julio J Rotemberg'],\n",
       " ['Roger H Gordon'],\n",
       " ['Albert J Viscio', 'Jorge Braga de Macedo', 'Pentti J K Kouri'],\n",
       " ['Henry S Farber'],\n",
       " ['David A Wise', 'Robert H Meyer'],\n",
       " ['Manuel Trajtenberg', 'Shlomo Yitzhaki'],\n",
       " ['Robert E Lipsey'],\n",
       " ['Herschel I Grossman'],\n",
       " ['James M Poterba', 'Martin S Feldstein'],\n",
       " ['Willem H Buiter'],\n",
       " ['Daniel R Sherman', 'Ronald G Ehrenberg'],\n",
       " ['Julio J Rotemberg', 'Robert S Pindyck'],\n",
       " ['Jeffrey I Bernstein', 'M Ishaq Nadiri'],\n",
       " ['Jeffrey I Bernstein', 'M Ishaq Nadiri'],\n",
       " ['Michael R Darby'],\n",
       " ['Daniel Siegel', 'Robert L McDonald'],\n",
       " ['Fred Goldman', 'Michael Grossman'],\n",
       " ['John F Helliwell', 'Tim Padmore'],\n",
       " [\"Linda O'Connor\", 'Robert E Lipsey'],\n",
       " ['Lawrence H Summers'],\n",
       " ['Alan J Auerbach'],\n",
       " ['Alan J Auerbach'],\n",
       " ['Alan J Auerbach'],\n",
       " ['Alan J Auerbach', 'Laurence J Kotlikoff'],\n",
       " ['Joel B Slemrod', 'Shlomo Yitzhaki'],\n",
       " ['Frederic P Slade'],\n",
       " ['Dennis C McCornac'],\n",
       " ['Richard B Freeman'],\n",
       " ['Jonathan Eaton', 'Willem H Buiter'],\n",
       " ['Benjamin M Friedman'],\n",
       " ['Irving B Kravis', 'Robert E Lipsey'],\n",
       " ['Rudiger Dornbusch'],\n",
       " ['Patric H Hendershott'],\n",
       " ['Irving B Kravis', 'Robert E Lipsey'],\n",
       " ['Ben S Bernanke'],\n",
       " ['Jacob A Frenkel', 'Rudiger Dornbusch'],\n",
       " ['Mark J Warshawsky'],\n",
       " ['Gene M Grossman'],\n",
       " ['Richard B Freeman'],\n",
       " ['Charles L Ballard', 'John B Shoven', 'John Whalley'],\n",
       " ['John B Taylor'],\n",
       " ['Peter J Kuhn'],\n",
       " ['Richard C Marston'],\n",
       " ['Frederic S Mishkin'],\n",
       " ['Frederic S Mishkin'],\n",
       " ['Charles Engel', 'Jeffrey A Frankel'],\n",
       " ['Bennett T McCallum'],\n",
       " ['Charles Engel', 'Jeffrey A Frankel'],\n",
       " ['Alan S Blinder'],\n",
       " ['Victor Zarnowitz'],\n",
       " ['Ben S Bernanke'],\n",
       " ['David A Wise', 'David T Ellwood'],\n",
       " ['Michael Bruno'],\n",
       " ['Joseph E Stiglitz'],\n",
       " ['Don Fullterton', 'Mervyn A King'],\n",
       " ['Behzad T Diba', 'Herschel I Grossman'],\n",
       " ['Chaipat Sahasakul', 'Robert J Barro'],\n",
       " ['Paul J Taubman', 'Robin C Sickles'],\n",
       " ['Sebastian Edwards'],\n",
       " ['Sebastian Edwards'],\n",
       " ['Sebastian Edwards'],\n",
       " ['Joshua Aizenman'],\n",
       " ['Jacob A Frenkel'],\n",
       " ['Jacques Mairesse', 'Philippe Cuneo'],\n",
       " ['Alan L Gustman', 'Thomas L Steinmeier'],\n",
       " ['Victor Zarnowitz'],\n",
       " ['Lars E O Svensson', 'Torsten Persson'],\n",
       " ['Douglas Coate'],\n",
       " ['Don Fullterton', 'Mervyn A King'],\n",
       " ['Lars E O Svensson', 'Nancy Peregrim Marion'],\n",
       " ['Assaf Razin', 'Gene M Grossman'],\n",
       " ['David Winter', 'Richard E Quandt', 'Richard Portes', 'Stephen Yeo'],\n",
       " ['Laurence Weiss', 'Robert B Litterman'],\n",
       " ['Willem H Buiter'],\n",
       " ['David B Gordon', 'Robert J Barro'],\n",
       " ['Joel B Slemrod', 'Roger H Gordon'],\n",
       " ['Richard T Froyen', 'Roger N Waud'],\n",
       " ['V Vance Roley'],\n",
       " ['Torsten Persson'],\n",
       " ['Alan S Blinder', 'Joseph E Stiglitz'],\n",
       " ['James L Medoff', 'Katharine G Abraham'],\n",
       " ['James L Medoff', 'Katharine G Abraham'],\n",
       " ['Jorge Braga de Macedo'],\n",
       " ['Harvey S Rosen', 'Michael L Katz'],\n",
       " ['Robert J Hodrick', 'Robert P Flood'],\n",
       " ['Paul Wachtel', 'Thomas Urich'],\n",
       " ['Alex Kane', 'Robert L McDonald', 'Zvi Bodie'],\n",
       " ['Alan S Blinder'],\n",
       " ['Tadashi Yamada'],\n",
       " ['Joseph E Stiglitz'],\n",
       " ['Sherwin Rosen'],\n",
       " ['Gary S Fields', 'Olivia S Mitchell'],\n",
       " ['Fumio Hayashi'],\n",
       " ['Barry J Eichengreen', 'Hans Van der Ven'],\n",
       " ['J David Richardson'],\n",
       " ['Maurice Obstfeld'],\n",
       " ['James R Markusen', 'Lars E O Svensson'],\n",
       " ['Jerry A Hausman'],\n",
       " ['Maurice Obstfeld'],\n",
       " ['Irving B Kravis', \"Linda O'Connor\", 'Robert E Lipsey'],\n",
       " ['James H Stock', 'Jeffrey A Frankel'],\n",
       " ['Joseph E Stiglitz'],\n",
       " ['Joshua Aizenman'],\n",
       " ['Joshua Aizenman'],\n",
       " ['James M Poterba', 'Lawrence H Summers'],\n",
       " ['Jeffrey A Frankel'],\n",
       " ['Andrew B Lyon', 'Don Fullterton'],\n",
       " ['Richard M Levich'],\n",
       " ['Jeffrey A Frankel', 'William T Dickens'],\n",
       " ['Michael Dotsey', 'Robert G King'],\n",
       " ['Lars E O Svensson', 'Wilfred J Ethier'],\n",
       " ['David T Ellwood', 'Glenn A Fine'],\n",
       " ['Richard C Marston'],\n",
       " ['Jacob A Frenkel'],\n",
       " ['Stanley Fischer'],\n",
       " ['Jonathan Eaton', 'Willem H Buiter'],\n",
       " ['Gikas A Hardouvelis', 'Jeffrey A Frankel'],\n",
       " ['Andrew B Abel', 'Olivier Jean Blanchard'],\n",
       " ['Don Fullterton'],\n",
       " ['Irving B Kravis'],\n",
       " ['Charles E McLure, Jr'],\n",
       " ['Edward P Lazear'],\n",
       " ['Michael R Darby'],\n",
       " ['Gary S Fields', 'Olivia S Mitchell'],\n",
       " ['Lars E O Svensson', 'Torsten Persson'],\n",
       " ['Benjamin M Friedman'],\n",
       " ['James M Poterba'],\n",
       " ['Jess B Yawitz', 'Kevin J Maloney', 'William J Marshall'],\n",
       " ['Jerry A Hausman', 'Mark W Watson'],\n",
       " ['Richard T Froyen', 'Roger N Waud'],\n",
       " ['William H Branson'],\n",
       " ['Henry S Farber'],\n",
       " ['Wayne H Mikkelson'],\n",
       " ['Jonathan Eaton', 'Stephen J Turnovsky'],\n",
       " ['Steven G Allen'],\n",
       " ['David E Bloom', 'James Trussell'],\n",
       " ['Alex Kane', 'Robert L McDonald', 'Zvi Bodie'],\n",
       " ['Patric H Hendershott', 'Roger D Huang'],\n",
       " ['E Philip Jones', 'Eric Rosenfeld', 'Scott P Mason'],\n",
       " ['Herschel I Grossman', 'William S Haraf'],\n",
       " ['Ileen B Malitz', 'Michael S Long'],\n",
       " ['Clayne L Pope', 'J R Kearl'],\n",
       " ['Olivier Jean Blanchard'],\n",
       " ['N Gregory Mankiw'],\n",
       " ['David E Bloom', 'Orley C Ashenfelter'],\n",
       " ['Joshua Aizenman'],\n",
       " ['Alan J Auerbach'],\n",
       " ['Alan J Auerbach'],\n",
       " ['Daniel S Hamermesh'],\n",
       " ['Joseph E Stiglitz', 'Richard J Arnott'],\n",
       " ['John B Shoven', 'Michael D Hurd'],\n",
       " ['Joseph E Stiglitz', 'Raaj Kumar Sah'],\n",
       " ['Robert E Lucas, Jr'],\n",
       " ['Edward P Lazear'],\n",
       " ['Alan M Garber', 'James F Silverman', 'Victor R Fuchs'],\n",
       " ['Bennett T McCallum'],\n",
       " ['Harvey S Rosen'],\n",
       " ['Bennett T McCallum'],\n",
       " ['Michael Rothschild', 'Robert A Moffitt'],\n",
       " ['Richard B Freeman'],\n",
       " ['Sherwin Rosen'],\n",
       " ['Jeffrey D Sachs'],\n",
       " ['John H Makin', 'Vito Tanzi'],\n",
       " ['Douglas Holtz-Eakin', 'Harvey S Rosen', 'Kenneth T Rosen'],\n",
       " ['Christopher F Baum', 'John H Ciccolo, Jr'],\n",
       " ['Stephen J Turnovsky'],\n",
       " ['Louis A Lambros', 'Victor Zarnowitz'],\n",
       " ['Sebastian Edwards'],\n",
       " ['Kenneth S Rogoff', 'Maurice Obstfeld'],\n",
       " ['Gene M Grossman'],\n",
       " ['Bharat Trehan', 'Robert G King'],\n",
       " ['George M Constantinidies'],\n",
       " ['Joshua Aizenman'],\n",
       " ['William H Branson'],\n",
       " ['Joshua L Schwarz', 'Ronald G Ehrenberg'],\n",
       " ['Robert J Hodrick', 'Sanjay Srivastava'],\n",
       " ['Carl E Walsh', 'V Vance Roley'],\n",
       " ['David Winter', 'Richard E Quandt', 'Richard Portes', 'Stephen Yeo'],\n",
       " ['Henry S Farber', 'Max H Bazerman'],\n",
       " ['George M Constantinidies', 'Jonathan E Ingersoll Jr'],\n",
       " ['John F Helliwell'],\n",
       " ['Robert S Pindyck'],\n",
       " ['Takatoshi Ito'],\n",
       " ['David T Ellwood'],\n",
       " ['Jeffrey D Sachs'],\n",
       " ['Stanley Fischer'],\n",
       " ['James L Medoff', 'Katharine G Abraham'],\n",
       " ['Barbara J Spencer', 'James A Brander'],\n",
       " ['Barbara J Spencer', 'James A Brander'],\n",
       " ['James A Brander', 'Paul R Krugman'],\n",
       " ['David H Papell'],\n",
       " ['Jonathan Eaton'],\n",
       " ['David A Hsieh', 'John F O Bilson'],\n",
       " ['R Spence Hilton', 'Robert E Baldwin'],\n",
       " ['David T Ellwood', 'Mary Jo Bane'],\n",
       " ['Robert A Margo'],\n",
       " ['Arturo Estrella', 'Jeffrey C Fuhrer'],\n",
       " ['Christopher A Sims', 'Robert B Litterman', 'Thomas Doan'],\n",
       " ['John Y Campbell', 'Robert J Shiller'],\n",
       " ['Gary S Fields', 'Olivia S Mitchell'],\n",
       " ['Jeffrey A Frankel'],\n",
       " ['Tadashi Yamada'],\n",
       " ['Richard B Freeman'],\n",
       " ['Benjamin M Friedman'],\n",
       " ['Benjamin M Friedman'],\n",
       " ['Robert J Gordon'],\n",
       " ['Makoto Ohta'],\n",
       " ['Alan L Gustman', 'Thomas L Steinmeier'],\n",
       " ['Robert A Taggart, Jr'],\n",
       " ['Chaipat Sahasakul', 'Robert J Barro'],\n",
       " ['Jess B Yawitz', 'Kevin J Maloney', 'Louis H Ederington'],\n",
       " ['Joseph G Haubrich', 'Robert G King'],\n",
       " ['Alan J Marcus'],\n",
       " ['Steven Shavell'],\n",
       " ['Steven Shavell'],\n",
       " ['Steven Shavell'],\n",
       " ['Robert J Gordon'],\n",
       " ['Robert S Smith', 'Ronald G Ehrenberg'],\n",
       " ...]"
      ]
     },
     "execution_count": 31,
     "metadata": {},
     "output_type": "execute_result"
    }
   ],
   "source": [
    "author_df_new = df['author'].values.tolist()\n",
    "author_df_new"
   ]
  },
  {
   "cell_type": "code",
   "execution_count": 32,
   "metadata": {},
   "outputs": [
    {
     "data": {
      "text/plain": [
       "['Fred Goldman', 'Michael Grossman']"
      ]
     },
     "execution_count": 32,
     "metadata": {},
     "output_type": "execute_result"
    }
   ],
   "source": [
    "author_df_new[7]"
   ]
  },
  {
   "cell_type": "code",
   "execution_count": 33,
   "metadata": {},
   "outputs": [
    {
     "data": {
      "text/html": [
       "<div>\n",
       "<style scoped>\n",
       "    .dataframe tbody tr th:only-of-type {\n",
       "        vertical-align: middle;\n",
       "    }\n",
       "\n",
       "    .dataframe tbody tr th {\n",
       "        vertical-align: top;\n",
       "    }\n",
       "\n",
       "    .dataframe thead th {\n",
       "        text-align: right;\n",
       "    }\n",
       "</style>\n",
       "<table border=\"1\" class=\"dataframe\">\n",
       "  <thead>\n",
       "    <tr style=\"text-align: right;\">\n",
       "      <th></th>\n",
       "      <th>author</th>\n",
       "    </tr>\n",
       "  </thead>\n",
       "  <tbody>\n",
       "    <tr>\n",
       "      <td>73</td>\n",
       "      <td>Robert T Michael</td>\n",
       "    </tr>\n",
       "    <tr>\n",
       "      <td>86</td>\n",
       "      <td>Merle Yahr Weiss</td>\n",
       "    </tr>\n",
       "    <tr>\n",
       "      <td>86</td>\n",
       "      <td>Robert E Lipsey</td>\n",
       "    </tr>\n",
       "    <tr>\n",
       "      <td>106</td>\n",
       "      <td>Michael J Boskin</td>\n",
       "    </tr>\n",
       "    <tr>\n",
       "      <td>115</td>\n",
       "      <td>Michael J Boskin</td>\n",
       "    </tr>\n",
       "    <tr>\n",
       "      <td>...</td>\n",
       "      <td>...</td>\n",
       "    </tr>\n",
       "    <tr>\n",
       "      <td>20998</td>\n",
       "      <td>Christopher M Snyder</td>\n",
       "    </tr>\n",
       "    <tr>\n",
       "      <td>20998</td>\n",
       "      <td>Michael R Kremer</td>\n",
       "    </tr>\n",
       "    <tr>\n",
       "      <td>20999</td>\n",
       "      <td>Julie A Reeder</td>\n",
       "    </tr>\n",
       "    <tr>\n",
       "      <td>20999</td>\n",
       "      <td>Onur Altindag</td>\n",
       "    </tr>\n",
       "    <tr>\n",
       "      <td>20999</td>\n",
       "      <td>Theodore J Joyce</td>\n",
       "    </tr>\n",
       "  </tbody>\n",
       "</table>\n",
       "<p>43297 rows × 1 columns</p>\n",
       "</div>"
      ],
      "text/plain": [
       "                     author\n",
       "73         Robert T Michael\n",
       "86         Merle Yahr Weiss\n",
       "86          Robert E Lipsey\n",
       "106        Michael J Boskin\n",
       "115        Michael J Boskin\n",
       "...                     ...\n",
       "20998  Christopher M Snyder\n",
       "20998      Michael R Kremer\n",
       "20999        Julie A Reeder\n",
       "20999         Onur Altindag\n",
       "20999      Theodore J Joyce\n",
       "\n",
       "[43297 rows x 1 columns]"
      ]
     },
     "execution_count": 33,
     "metadata": {},
     "output_type": "execute_result"
    }
   ],
   "source": [
    "#alternative way to check (better way instead)\n",
    "#for number of unique authors converting to a dataframe (first column beginning from 73 is paper number)\n",
    "author_df = df['author'].explode().to_frame()\n",
    "author_df"
   ]
  },
  {
   "cell_type": "code",
   "execution_count": 34,
   "metadata": {},
   "outputs": [
    {
     "data": {
      "text/plain": [
       "(43297, 1)"
      ]
     },
     "execution_count": 34,
     "metadata": {},
     "output_type": "execute_result"
    }
   ],
   "source": [
    "#checking the dimension of the author dataframe\n",
    "author_df.shape"
   ]
  },
  {
   "cell_type": "code",
   "execution_count": 35,
   "metadata": {},
   "outputs": [
    {
     "data": {
      "text/plain": [
       "9697"
      ]
     },
     "execution_count": 35,
     "metadata": {},
     "output_type": "execute_result"
    }
   ],
   "source": [
    "#checking for unique number of authors\n",
    "author_df['author'].nunique()"
   ]
  },
  {
   "cell_type": "code",
   "execution_count": 36,
   "metadata": {},
   "outputs": [
    {
     "data": {
      "text/plain": [
       "9697"
      ]
     },
     "execution_count": 36,
     "metadata": {},
     "output_type": "execute_result"
    }
   ],
   "source": [
    "#checking the value_counts for author/authors for each working paper\n",
    "len(author_df.groupby('author').count())"
   ]
  },
  {
   "cell_type": "code",
   "execution_count": 37,
   "metadata": {},
   "outputs": [
    {
     "data": {
      "text/html": [
       "<div>\n",
       "<style scoped>\n",
       "    .dataframe tbody tr th:only-of-type {\n",
       "        vertical-align: middle;\n",
       "    }\n",
       "\n",
       "    .dataframe tbody tr th {\n",
       "        vertical-align: top;\n",
       "    }\n",
       "\n",
       "    .dataframe thead th {\n",
       "        text-align: right;\n",
       "    }\n",
       "</style>\n",
       "<table border=\"1\" class=\"dataframe\">\n",
       "  <thead>\n",
       "    <tr style=\"text-align: right;\">\n",
       "      <th></th>\n",
       "      <th>author</th>\n",
       "    </tr>\n",
       "  </thead>\n",
       "  <tbody>\n",
       "    <tr>\n",
       "      <td>133</td>\n",
       "      <td>Fred Goldman</td>\n",
       "    </tr>\n",
       "    <tr>\n",
       "      <td>904</td>\n",
       "      <td>Fred Goldman</td>\n",
       "    </tr>\n",
       "    <tr>\n",
       "      <td>1017</td>\n",
       "      <td>Fred Goldman</td>\n",
       "    </tr>\n",
       "    <tr>\n",
       "      <td>1925</td>\n",
       "      <td>Fred Goldman</td>\n",
       "    </tr>\n",
       "    <tr>\n",
       "      <td>4135</td>\n",
       "      <td>Fred Goldman</td>\n",
       "    </tr>\n",
       "    <tr>\n",
       "      <td>7216</td>\n",
       "      <td>Fred Goldman</td>\n",
       "    </tr>\n",
       "    <tr>\n",
       "      <td>7350</td>\n",
       "      <td>Fred Goldman</td>\n",
       "    </tr>\n",
       "  </tbody>\n",
       "</table>\n",
       "</div>"
      ],
      "text/plain": [
       "            author\n",
       "133   Fred Goldman\n",
       "904   Fred Goldman\n",
       "1017  Fred Goldman\n",
       "1925  Fred Goldman\n",
       "4135  Fred Goldman\n",
       "7216  Fred Goldman\n",
       "7350  Fred Goldman"
      ]
     },
     "execution_count": 37,
     "metadata": {},
     "output_type": "execute_result"
    }
   ],
   "source": [
    "#checking for duplicate values - by doing unique values all these are removed \n",
    "author_df[author_df['author']=='Fred Goldman']"
   ]
  },
  {
   "cell_type": "markdown",
   "metadata": {},
   "source": [
    "### EDA for program"
   ]
  },
  {
   "cell_type": "code",
   "execution_count": 38,
   "metadata": {},
   "outputs": [
    {
     "data": {
      "text/plain": [
       "pandas.core.series.Series"
      ]
     },
     "execution_count": 38,
     "metadata": {},
     "output_type": "execute_result"
    }
   ],
   "source": [
    "#checking the type of program column\n",
    "type(df['program'])"
   ]
  },
  {
   "cell_type": "code",
   "execution_count": 39,
   "metadata": {},
   "outputs": [
    {
     "data": {
      "text/plain": [
       "['International Trade and Investment',\n",
       " 'International Finance and Macroeconomics']"
      ]
     },
     "execution_count": 39,
     "metadata": {},
     "output_type": "execute_result"
    }
   ],
   "source": [
    "#checking one of the elements in the program column \n",
    "df['program'].iloc[1]"
   ]
  },
  {
   "cell_type": "code",
   "execution_count": 40,
   "metadata": {},
   "outputs": [
    {
     "data": {
      "text/html": [
       "<div>\n",
       "<style scoped>\n",
       "    .dataframe tbody tr th:only-of-type {\n",
       "        vertical-align: middle;\n",
       "    }\n",
       "\n",
       "    .dataframe tbody tr th {\n",
       "        vertical-align: top;\n",
       "    }\n",
       "\n",
       "    .dataframe thead th {\n",
       "        text-align: right;\n",
       "    }\n",
       "</style>\n",
       "<table border=\"1\" class=\"dataframe\">\n",
       "  <thead>\n",
       "    <tr style=\"text-align: right;\">\n",
       "      <th></th>\n",
       "      <th>program</th>\n",
       "    </tr>\n",
       "  </thead>\n",
       "  <tbody>\n",
       "    <tr>\n",
       "      <td>73</td>\n",
       "      <td>Economic Fluctuations and Growth</td>\n",
       "    </tr>\n",
       "    <tr>\n",
       "      <td>86</td>\n",
       "      <td>International Trade and Investment</td>\n",
       "    </tr>\n",
       "    <tr>\n",
       "      <td>86</td>\n",
       "      <td>International Finance and Macroeconomics</td>\n",
       "    </tr>\n",
       "    <tr>\n",
       "      <td>106</td>\n",
       "      <td>Public Economics</td>\n",
       "    </tr>\n",
       "    <tr>\n",
       "      <td>115</td>\n",
       "      <td>Public Economics</td>\n",
       "    </tr>\n",
       "    <tr>\n",
       "      <td>...</td>\n",
       "      <td>...</td>\n",
       "    </tr>\n",
       "    <tr>\n",
       "      <td>20998</td>\n",
       "      <td>Health Economics</td>\n",
       "    </tr>\n",
       "    <tr>\n",
       "      <td>20998</td>\n",
       "      <td>Industrial Organization</td>\n",
       "    </tr>\n",
       "    <tr>\n",
       "      <td>20998</td>\n",
       "      <td>Law and Economics</td>\n",
       "    </tr>\n",
       "    <tr>\n",
       "      <td>20998</td>\n",
       "      <td>Productivity, Innovation, and Entrepreneurship</td>\n",
       "    </tr>\n",
       "    <tr>\n",
       "      <td>20999</td>\n",
       "      <td>Health Economics</td>\n",
       "    </tr>\n",
       "  </tbody>\n",
       "</table>\n",
       "<p>35094 rows × 1 columns</p>\n",
       "</div>"
      ],
      "text/plain": [
       "                                              program\n",
       "73                   Economic Fluctuations and Growth\n",
       "86                 International Trade and Investment\n",
       "86           International Finance and Macroeconomics\n",
       "106                                  Public Economics\n",
       "115                                  Public Economics\n",
       "...                                               ...\n",
       "20998                                Health Economics\n",
       "20998                         Industrial Organization\n",
       "20998                               Law and Economics\n",
       "20998  Productivity, Innovation, and Entrepreneurship\n",
       "20999                                Health Economics\n",
       "\n",
       "[35094 rows x 1 columns]"
      ]
     },
     "execution_count": 40,
     "metadata": {},
     "output_type": "execute_result"
    }
   ],
   "source": [
    "#for number of unique programs converting the column into a dataframe (first column beginning from 73 is the paper number)\n",
    "program_df = df['program'].explode().to_frame()\n",
    "program_df"
   ]
  },
  {
   "cell_type": "code",
   "execution_count": 41,
   "metadata": {},
   "outputs": [
    {
     "data": {
      "text/plain": [
       "(35094, 1)"
      ]
     },
     "execution_count": 41,
     "metadata": {},
     "output_type": "execute_result"
    }
   ],
   "source": [
    "#checking the dimension of program dataframe\n",
    "program_df.shape"
   ]
  },
  {
   "cell_type": "code",
   "execution_count": 42,
   "metadata": {},
   "outputs": [
    {
     "data": {
      "text/plain": [
       "program    22\n",
       "dtype: int64"
      ]
     },
     "execution_count": 42,
     "metadata": {},
     "output_type": "execute_result"
    }
   ],
   "source": [
    "#checking for unique number of programs\n",
    "program_df.nunique()"
   ]
  },
  {
   "cell_type": "code",
   "execution_count": 43,
   "metadata": {},
   "outputs": [],
   "source": [
    "#checking the unique names for program/programs for the working paper\n",
    "list_programs = []\n",
    "for i in range(20696):\n",
    "    list_programs.extend(df.iloc[i]['program'])"
   ]
  },
  {
   "cell_type": "code",
   "execution_count": 44,
   "metadata": {},
   "outputs": [
    {
     "data": {
      "text/plain": [
       "array(['', 'Asset Pricing', 'Children', 'Corporate Finance',\n",
       "       'Development Economics', 'Development of the American Economy',\n",
       "       'Economic Fluctuations and Growth', 'Economics of Aging',\n",
       "       'Economics of Education', 'Environment and Energy Economics',\n",
       "       'Health Care', 'Health Economics', 'Industrial Organization',\n",
       "       'International Finance and Macroeconomics',\n",
       "       'International Trade and Investment', 'Labor Studies',\n",
       "       'Law and Economics', 'Monetary Economics', 'Political Economy',\n",
       "       'Productivity, Innovation, and Entrepreneurship',\n",
       "       'Public Economics', 'Technical Working Papers'], dtype='<U46')"
      ]
     },
     "execution_count": 44,
     "metadata": {},
     "output_type": "execute_result"
    }
   ],
   "source": [
    "#making a list of unique programs\n",
    "array_programs = np.unique(list_programs)\n",
    "array_programs"
   ]
  },
  {
   "cell_type": "code",
   "execution_count": 45,
   "metadata": {},
   "outputs": [
    {
     "data": {
      "text/plain": [
       "['Asset Pricing',\n",
       " 'Children',\n",
       " 'Corporate Finance',\n",
       " 'Development Economics',\n",
       " 'Development of the American Economy',\n",
       " 'Economic Fluctuations and Growth',\n",
       " 'Economics of Aging',\n",
       " 'Economics of Education',\n",
       " 'Environment and Energy Economics',\n",
       " 'Health Care',\n",
       " 'Health Economics',\n",
       " 'Industrial Organization',\n",
       " 'International Finance and Macroeconomics',\n",
       " 'International Trade and Investment',\n",
       " 'Labor Studies',\n",
       " 'Law and Economics',\n",
       " 'Monetary Economics',\n",
       " 'Political Economy',\n",
       " 'Productivity, Innovation, and Entrepreneurship',\n",
       " 'Public Economics',\n",
       " 'Technical Working Papers']"
      ]
     },
     "execution_count": 45,
     "metadata": {},
     "output_type": "execute_result"
    }
   ],
   "source": [
    "#using filtering to remove the empty strings ('')\n",
    "array_programs = list(filter(None, array_programs))\n",
    "array_programs"
   ]
  },
  {
   "cell_type": "code",
   "execution_count": 46,
   "metadata": {},
   "outputs": [
    {
     "data": {
      "text/plain": [
       "21"
      ]
     },
     "execution_count": 46,
     "metadata": {},
     "output_type": "execute_result"
    }
   ],
   "source": [
    "#checking the total number of programs \n",
    "len(array_programs)"
   ]
  },
  {
   "cell_type": "markdown",
   "metadata": {},
   "source": [
    "### EDA (for title text)"
   ]
  },
  {
   "cell_type": "code",
   "execution_count": 47,
   "metadata": {},
   "outputs": [
    {
     "data": {
      "text/plain": [
       "73     51\n",
       "86     61\n",
       "106    40\n",
       "115    43\n",
       "116    32\n",
       "Name: title, dtype: int64"
      ]
     },
     "execution_count": 47,
     "metadata": {},
     "output_type": "execute_result"
    }
   ],
   "source": [
    "#checking the length of title of paper\n",
    "df['title'].str.len().head()"
   ]
  },
  {
   "cell_type": "code",
   "execution_count": 48,
   "metadata": {},
   "outputs": [
    {
     "data": {
      "text/plain": [
       "[51, 61, 40, 43, 32, 47, 58, 50, 41, 48]"
      ]
     },
     "execution_count": 48,
     "metadata": {},
     "output_type": "execute_result"
    }
   ],
   "source": [
    "# Printing the title lengths\n",
    "\n",
    "lengths = [len(text) for text in df['title']]\n",
    "lengths[:10]"
   ]
  },
  {
   "cell_type": "code",
   "execution_count": 49,
   "metadata": {},
   "outputs": [
    {
     "data": {
      "image/png": "[encoded data removed]",
      "text/plain": [
       "<Figure size 576x432 with 1 Axes>"
      ]
     },
     "metadata": {},
     "output_type": "display_data"
    }
   ],
   "source": [
    "# Generating a list of title lengths\n",
    "\n",
    "lengths = [len(text) for text in df['title']]\n",
    "\n",
    "# Plotting the title lengths\n",
    "\n",
    "plt.figure(figsize = (8,6), facecolor = \"white\")\n",
    "sns.distplot(lengths, kde = False, bins = 20, color = \"darkblue\")\n",
    "plt.axvline(np.mean(lengths), color = \"red\")\n",
    "plt.title(\"Distribution Of Working Paper Title Length\", size = 14)\n",
    "plt.xlabel(\"Number of words in Paper Title\", size = 12)\n",
    "plt.ylabel(\"Number of Working Papers\", size = 12)\n",
    "plt.yticks(size = 12);"
   ]
  },
  {
   "cell_type": "markdown",
   "metadata": {},
   "source": [
    "The above figure shows that the titles of the working papers are on average over 60 words long. "
   ]
  },
  {
   "cell_type": "code",
   "execution_count": null,
   "metadata": {},
   "outputs": [],
   "source": []
  }
 ],
 "metadata": {
  "kernelspec": {
   "display_name": "Python 3",
   "language": "python",
   "name": "python3"
  },
  "language_info": {
   "codemirror_mode": {
    "name": "ipython",
    "version": 3
   },
   "file_extension": ".py",
   "mimetype": "text/x-python",
   "name": "python",
   "nbconvert_exporter": "python",
   "pygments_lexer": "ipython3",
   "version": "3.7.4"
  }
 },
 "nbformat": 4,
 "nbformat_minor": 2
}
