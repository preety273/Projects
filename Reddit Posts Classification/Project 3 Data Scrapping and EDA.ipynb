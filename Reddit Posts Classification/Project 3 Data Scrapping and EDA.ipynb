{
 "cells": [
  {
   "cell_type": "markdown",
   "metadata": {},
   "source": [
    "# Project 3: Reddit API and NLP"
   ]
  },
  {
   "cell_type": "markdown",
   "metadata": {},
   "source": [
    "## Problem Statement"
   ]
  },
  {
   "cell_type": "markdown",
   "metadata": {},
   "source": [
    "A major cyber attack has temporarily rendered the Reddit website dysfunctional. This has also forced Reddit to explore  alternative mechanisms to perform its essential data classification functions. As a data scientist at reddit, I am tasked to build an alternative machine learning algorithm for accurately classifying the user posts into distinct subreddits or discussion topics depending on the content of the posts. For the purpose of a trial run in ascertaining the validity of the above algorithm, only posts from two subreddits are being trained and tested for the classification model."
   ]
  },
  {
   "cell_type": "markdown",
   "metadata": {},
   "source": [
    "## Executive Summary\n",
    "\n",
    "This project focuses on data wrangling, natural language processing, and classification modelling for the random posts pulled from the two subreddits on the Reddit website. Reddit is a discussion website which allows users to post content and comments relating to a wide variety of fields ranging from day-to-day activities such as cooking to highly specialized domains such as Programming, Science, etc. I am a consultant with Reddit who has been tasked with developing an alternative machine learning algorithm which accurately classifies user-comments into specific categories depending on the content of each post. The user-content that is provided to me is related to Excel and Legal Advice subreddit. For the purpose of the project, I scrapped data (about 1,000 random user-posts for each subreddit) from the Reddit website. The data was later cleaned for punctuations as well as English stopwords such as is, are, and, among others for the purpose of building the model. Since the computer programs only accept an input in the form of digits, the entire textual dataset, comprising of title and posts, is converted into numbers using a function known as count vectorizer. The vectorizer provides a number corresponding to each word in the post and title according to its frequency, that is, the number of times a word appears in the title and the post. For simplication purposes, title and posts are combined together into a separate column called as \"combined\". Once the process of vectorization is complete, different models such as Logistic Regression, Naives Bayes and Decision Tree are fitted to the dataset. The models are further evaluated using the accuracy score. The comparison of all the three models indicates that Naives Bayes Model performs the best on the testing dataset. This model also showed a minor misclassification of the posts between the two subreddits. Only 1 post from Excel subreddit was misclassified as Legal Advice and vice-versa. Further research can be undertaken by employing more classification models such as Random Forest, Support Vector Machines, etc. and more observations can be added to see if the accuracy score improves.         \n",
    "\n",
    "\n",
    "### Contents:\n",
    "- [Data Dictionary](#Data-Dictionary)\n",
    "- [Data Import](#Data-Import)\n",
    "- [Data Cleaning and Exploratory Data Analysis] \n",
    "- [Preprocessing (Tokenizing and Lemmatizing]\n",
    "- [Modelling and Evaluation]\n",
    "- [Conclusion and Recommendations]"
   ]
  },
  {
   "cell_type": "markdown",
   "metadata": {},
   "source": [
    "## Data Dictionary"
   ]
  },
  {
   "cell_type": "markdown",
   "metadata": {},
   "source": [
    "|Variable|Type|Description|\n",
    "|---|----|----|\n",
    "|title|object|title of the user-created posts|\n",
    "|selftext|object|user-created posts|\t\n",
    "|subreddit|object|user-created boards for posting related to excel and legal advice|"
   ]
  },
  {
   "cell_type": "markdown",
   "metadata": {},
   "source": [
    "## Data Import"
   ]
  },
  {
   "cell_type": "markdown",
   "metadata": {},
   "source": [
    "### Import the libraries"
   ]
  },
  {
   "cell_type": "code",
   "execution_count": 1,
   "metadata": {},
   "outputs": [],
   "source": [
    "# Imports\n",
    "import requests\n",
    "import pandas as pd\n",
    "import time\n",
    "import random"
   ]
  },
  {
   "cell_type": "markdown",
   "metadata": {},
   "source": [
    "### Subreddit 1 - Legaladvice"
   ]
  },
  {
   "cell_type": "code",
   "execution_count": 2,
   "metadata": {},
   "outputs": [],
   "source": [
    "#url of first subreddit - legaladvice \n",
    "url = 'https://www.reddit.com/r/legaladvice.json'"
   ]
  },
  {
   "cell_type": "code",
   "execution_count": 3,
   "metadata": {},
   "outputs": [],
   "source": [
    "res = requests.get(url)"
   ]
  },
  {
   "cell_type": "code",
   "execution_count": 4,
   "metadata": {},
   "outputs": [
    {
     "data": {
      "text/plain": [
       "429"
      ]
     },
     "execution_count": 4,
     "metadata": {},
     "output_type": "execute_result"
    }
   ],
   "source": [
    "#checking the status of the website\n",
    "res.status_code"
   ]
  },
  {
   "cell_type": "code",
   "execution_count": 5,
   "metadata": {},
   "outputs": [],
   "source": [
    "res = requests.get(url, headers={'User-agent': 'Preety'})"
   ]
  },
  {
   "cell_type": "code",
   "execution_count": 6,
   "metadata": {},
   "outputs": [
    {
     "data": {
      "text/plain": [
       "200"
      ]
     },
     "execution_count": 6,
     "metadata": {},
     "output_type": "execute_result"
    }
   ],
   "source": [
    "res.status_code"
   ]
  },
  {
   "cell_type": "code",
   "execution_count": 7,
   "metadata": {},
   "outputs": [],
   "source": [
    "#json format of the scrapped data is similar to a dictionary (just for reference)\n",
    "reddit_dict = res.json()"
   ]
  },
  {
   "cell_type": "code",
   "execution_count": 8,
   "metadata": {
    "scrolled": false
   },
   "outputs": [],
   "source": [
    "#print(reddit_dict)"
   ]
  },
  {
   "cell_type": "code",
   "execution_count": 9,
   "metadata": {},
   "outputs": [
    {
     "name": "stdout",
     "output_type": "stream",
     "text": [
      "https://www.reddit.com/r/legaladvice.json\n",
      "53\n",
      "https://www.reddit.com/r/legaladvice.json?after=t3_eu0jg8\n",
      "17\n",
      "https://www.reddit.com/r/legaladvice.json?after=t3_etxceo\n",
      "32\n",
      "https://www.reddit.com/r/legaladvice.json?after=t3_eu1zsr\n",
      "17\n",
      "https://www.reddit.com/r/legaladvice.json?after=t3_etyfz7\n",
      "21\n",
      "https://www.reddit.com/r/legaladvice.json?after=t3_eu0hdn\n",
      "18\n",
      "https://www.reddit.com/r/legaladvice.json?after=t3_etzr78\n",
      "25\n",
      "https://www.reddit.com/r/legaladvice.json?after=t3_etyhtq\n",
      "20\n",
      "https://www.reddit.com/r/legaladvice.json?after=t3_etxot6\n",
      "6\n",
      "https://www.reddit.com/r/legaladvice.json?after=t3_etwzhs\n",
      "29\n",
      "https://www.reddit.com/r/legaladvice.json?after=t3_etvrna\n",
      "60\n",
      "https://www.reddit.com/r/legaladvice.json?after=t3_etv7r8\n",
      "53\n",
      "https://www.reddit.com/r/legaladvice.json?after=t3_ettziu\n",
      "57\n",
      "https://www.reddit.com/r/legaladvice.json?after=t3_ett24z\n",
      "48\n",
      "https://www.reddit.com/r/legaladvice.json?after=t3_etv1zn\n",
      "42\n",
      "https://www.reddit.com/r/legaladvice.json?after=t3_ethoxr\n",
      "59\n",
      "https://www.reddit.com/r/legaladvice.json?after=t3_etnlvv\n",
      "55\n",
      "https://www.reddit.com/r/legaladvice.json?after=t3_etuly0\n",
      "38\n",
      "https://www.reddit.com/r/legaladvice.json?after=t3_etn6t2\n",
      "49\n",
      "https://www.reddit.com/r/legaladvice.json?after=t3_etopsi\n",
      "17\n",
      "https://www.reddit.com/r/legaladvice.json?after=t3_ethys4\n",
      "34\n",
      "https://www.reddit.com/r/legaladvice.json?after=t3_etli3y\n",
      "56\n",
      "https://www.reddit.com/r/legaladvice.json?after=t3_ethvq8\n",
      "30\n",
      "https://www.reddit.com/r/legaladvice.json?after=t3_etjzsp\n",
      "37\n",
      "https://www.reddit.com/r/legaladvice.json?after=t3_etjevm\n",
      "3\n",
      "https://www.reddit.com/r/legaladvice.json?after=t3_etiv9t\n",
      "13\n",
      "https://www.reddit.com/r/legaladvice.json?after=t3_eti68b\n",
      "9\n",
      "https://www.reddit.com/r/legaladvice.json?after=t3_etailm\n",
      "21\n",
      "https://www.reddit.com/r/legaladvice.json?after=t3_eth3yz\n",
      "21\n",
      "https://www.reddit.com/r/legaladvice.json?after=t3_etgezf\n",
      "10\n",
      "https://www.reddit.com/r/legaladvice.json?after=t3_etfxic\n",
      "31\n",
      "https://www.reddit.com/r/legaladvice.json?after=t3_etf9t7\n",
      "39\n",
      "https://www.reddit.com/r/legaladvice.json?after=t3_etbnzk\n",
      "37\n",
      "https://www.reddit.com/r/legaladvice.json?after=t3_ete7ir\n",
      "48\n",
      "https://www.reddit.com/r/legaladvice.json?after=t3_etd4wy\n",
      "44\n",
      "https://www.reddit.com/r/legaladvice.json?after=t3_etcc3s\n",
      "57\n",
      "https://www.reddit.com/r/legaladvice.json?after=t3_etgc01\n",
      "38\n",
      "https://www.reddit.com/r/legaladvice.json?after=t3_etcx8j\n",
      "58\n",
      "https://www.reddit.com/r/legaladvice.json?after=t3_etb5pu\n",
      "7\n",
      "https://www.reddit.com/r/legaladvice.json?after=t3_et3s25\n",
      "16\n",
      "https://www.reddit.com/r/legaladvice.json\n",
      "49\n",
      "https://www.reddit.com/r/legaladvice.json?after=t3_eu0mwy\n",
      "32\n",
      "https://www.reddit.com/r/legaladvice.json?after=t3_etgqda\n",
      "4\n",
      "https://www.reddit.com/r/legaladvice.json?after=t3_eu2a6k\n",
      "13\n",
      "https://www.reddit.com/r/legaladvice.json?after=t3_eu19g5\n",
      "52\n",
      "https://www.reddit.com/r/legaladvice.json?after=t3_eu0mug\n",
      "20\n",
      "https://www.reddit.com/r/legaladvice.json?after=t3_etzzyn\n",
      "48\n",
      "https://www.reddit.com/r/legaladvice.json?after=t3_etytcn\n",
      "12\n",
      "https://www.reddit.com/r/legaladvice.json?after=t3_etxxy4\n",
      "10\n",
      "https://www.reddit.com/r/legaladvice.json?after=t3_etx8ol\n",
      "30\n"
     ]
    }
   ],
   "source": [
    "#scrapping the data from legaladvice subreddit into json(dictionary) format\n",
    "posts = []\n",
    "after = None\n",
    "\n",
    "for a in range(50):\n",
    "    if after == None:\n",
    "        current_url = url\n",
    "    else:\n",
    "        current_url = url + '?after=' + after\n",
    "    print(current_url)\n",
    "    res = requests.get(current_url, headers={'User-agent': 'Preety'})\n",
    "    \n",
    "    if res.status_code != 200:\n",
    "        print('Status error', res.status_code)\n",
    "        break\n",
    "    \n",
    "    current_dict = res.json()\n",
    "    current_posts = [p['data'] for p in current_dict['data']['children']]\n",
    "    posts.extend(current_posts)\n",
    "    after = current_dict['data']['after']\n",
    "    \n",
    "    # generate a random sleep duration to look more 'natural'\n",
    "    sleep_duration = random.randint(2,60)\n",
    "    print(sleep_duration)\n",
    "    time.sleep(sleep_duration)"
   ]
  },
  {
   "cell_type": "code",
   "execution_count": 10,
   "metadata": {},
   "outputs": [
    {
     "name": "stdout",
     "output_type": "stream",
     "text": [
      "https://www.reddit.com/r/legaladvice.json\n",
      "4\n",
      "https://www.reddit.com/r/legaladvice.json?after=t3_ets76p\n",
      "4\n",
      "https://www.reddit.com/r/legaladvice.json?after=t3_etxceo\n",
      "6\n",
      "https://www.reddit.com/r/legaladvice.json?after=t3_eu2c1t\n",
      "3\n",
      "https://www.reddit.com/r/legaladvice.json?after=t3_etwwb9\n",
      "2\n",
      "https://www.reddit.com/r/legaladvice.json?after=t3_etw3f7\n",
      "4\n",
      "https://www.reddit.com/r/legaladvice.json?after=t3_eu020d\n",
      "5\n",
      "https://www.reddit.com/r/legaladvice.json?after=t3_etyu3z\n",
      "4\n",
      "https://www.reddit.com/r/legaladvice.json?after=t3_etxz27\n",
      "4\n",
      "https://www.reddit.com/r/legaladvice.json?after=t3_etx9dy\n",
      "6\n",
      "https://www.reddit.com/r/legaladvice.json?after=t3_etvyfq\n",
      "2\n",
      "https://www.reddit.com/r/legaladvice.json?after=t3_etvh9b\n",
      "2\n",
      "https://www.reddit.com/r/legaladvice.json?after=t3_etub99\n",
      "4\n",
      "https://www.reddit.com/r/legaladvice.json?after=t3_etctrx\n",
      "6\n",
      "https://www.reddit.com/r/legaladvice.json?after=t3_ets8fo\n",
      "6\n",
      "https://www.reddit.com/r/legaladvice.json?after=t3_etrcol\n",
      "3\n",
      "https://www.reddit.com/r/legaladvice.json?after=t3_ets8be\n",
      "2\n",
      "https://www.reddit.com/r/legaladvice.json?after=t3_etdqx3\n",
      "6\n",
      "https://www.reddit.com/r/legaladvice.json?after=t3_etlh82\n",
      "6\n",
      "https://www.reddit.com/r/legaladvice.json?after=t3_etmw0o\n",
      "5\n",
      "https://www.reddit.com/r/legaladvice.json?after=t3_etmdwc\n",
      "3\n",
      "https://www.reddit.com/r/legaladvice.json?after=t3_etlw9g\n",
      "2\n",
      "https://www.reddit.com/r/legaladvice.json?after=t3_etibou\n",
      "6\n",
      "https://www.reddit.com/r/legaladvice.json?after=t3_et3bih\n",
      "2\n",
      "https://www.reddit.com/r/legaladvice.json?after=t3_etm83n\n",
      "2\n",
      "https://www.reddit.com/r/legaladvice.json?after=t3_etj25w\n",
      "5\n",
      "https://www.reddit.com/r/legaladvice.json?after=t3_etiio5\n",
      "4\n",
      "https://www.reddit.com/r/legaladvice.json?after=t3_ethuu6\n",
      "2\n",
      "https://www.reddit.com/r/legaladvice.json?after=t3_ethe1t\n",
      "2\n",
      "https://www.reddit.com/r/legaladvice.json?after=t3_et3sem\n",
      "2\n",
      "https://www.reddit.com/r/legaladvice.json?after=t3_etkst3\n",
      "3\n",
      "https://www.reddit.com/r/legaladvice.json?after=t3_etfmj8\n",
      "3\n",
      "https://www.reddit.com/r/legaladvice.json?after=t3_etezub\n",
      "5\n",
      "https://www.reddit.com/r/legaladvice.json?after=t3_eswyf5\n",
      "5\n",
      "https://www.reddit.com/r/legaladvice.json?after=t3_etascg\n",
      "4\n",
      "https://www.reddit.com/r/legaladvice.json?after=t3_etcnbc\n",
      "6\n",
      "https://www.reddit.com/r/legaladvice.json?after=t3_etbuj0\n",
      "5\n",
      "https://www.reddit.com/r/legaladvice.json?after=t3_etanjv\n",
      "2\n",
      "https://www.reddit.com/r/legaladvice.json?after=t3_et9akv\n",
      "2\n",
      "https://www.reddit.com/r/legaladvice.json?after=t3_et1dzc\n",
      "5\n",
      "https://www.reddit.com/r/legaladvice.json\n",
      "2\n",
      "https://www.reddit.com/r/legaladvice.json?after=t3_ets76p\n",
      "3\n",
      "https://www.reddit.com/r/legaladvice.json?after=t3_etwj8d\n",
      "6\n",
      "https://www.reddit.com/r/legaladvice.json?after=t3_eu2cdb\n",
      "6\n",
      "https://www.reddit.com/r/legaladvice.json?after=t3_etyroa\n",
      "6\n",
      "https://www.reddit.com/r/legaladvice.json?after=t3_etrhbz\n",
      "4\n",
      "https://www.reddit.com/r/legaladvice.json?after=t3_eu03oi\n",
      "5\n",
      "https://www.reddit.com/r/legaladvice.json?after=t3_etyy1p\n",
      "6\n",
      "https://www.reddit.com/r/legaladvice.json?after=t3_ety3sv\n",
      "3\n",
      "https://www.reddit.com/r/legaladvice.json?after=t3_etxc7j\n",
      "2\n"
     ]
    }
   ],
   "source": [
    "#saving the posts collected in json format (dictionary) into a csv and dataframe \n",
    "posts = []\n",
    "after = None\n",
    "\n",
    "for a in range(50):\n",
    "    if after == None:\n",
    "        current_url = url\n",
    "    else:\n",
    "        current_url = url + '?after=' + after\n",
    "    print(current_url)\n",
    "    res = requests.get(current_url, headers={'User-agent': 'Preety'})\n",
    "    \n",
    "    if res.status_code != 200:\n",
    "        print('Status error', res.status_code)\n",
    "        break\n",
    "    \n",
    "    current_dict = res.json()\n",
    "    current_posts = [p['data'] for p in current_dict['data']['children']]\n",
    "    posts.extend(current_posts)\n",
    "    after = current_dict['data']['after']\n",
    "    \n",
    "    if a > 0:\n",
    "        prev_posts = pd.read_csv('legaladvice.csv')\n",
    "        current_df = pd.DataFrame()\n",
    "        \n",
    "    else:\n",
    "        pd.DataFrame(posts).to_csv('legaladvice.csv', index = False)\n",
    "\n",
    "    # generate a random sleep duration to look more 'natural'\n",
    "    sleep_duration = random.randint(2,6)\n",
    "    print(sleep_duration)\n",
    "    time.sleep(sleep_duration)"
   ]
  },
  {
   "cell_type": "code",
   "execution_count": 11,
   "metadata": {},
   "outputs": [
    {
     "data": {
      "text/plain": [
       "1241"
      ]
     },
     "execution_count": 11,
     "metadata": {},
     "output_type": "execute_result"
    }
   ],
   "source": [
    "#checking the dimension of the scrapped posts from legaladvice subreddit\n",
    "len(posts)"
   ]
  },
  {
   "cell_type": "code",
   "execution_count": 17,
   "metadata": {},
   "outputs": [],
   "source": [
    "#putting the scrapped posts into a dataframe, limiting to only 3 columns to be used for classification purposes\n",
    "legaladvice_df = pd.DataFrame(posts, columns = ['subreddit', 'title', 'selftext']).to_csv('legaladvice.csv', index = False)"
   ]
  },
  {
   "cell_type": "code",
   "execution_count": 18,
   "metadata": {},
   "outputs": [],
   "source": [
    "#saving the dataframe as a csv file\n",
    "legaladvice_df = pd.read_csv('legaladvice.csv')"
   ]
  },
  {
   "cell_type": "code",
   "execution_count": 19,
   "metadata": {},
   "outputs": [
    {
     "data": {
      "text/html": [
       "<div>\n",
       "<style scoped>\n",
       "    .dataframe tbody tr th:only-of-type {\n",
       "        vertical-align: middle;\n",
       "    }\n",
       "\n",
       "    .dataframe tbody tr th {\n",
       "        vertical-align: top;\n",
       "    }\n",
       "\n",
       "    .dataframe thead th {\n",
       "        text-align: right;\n",
       "    }\n",
       "</style>\n",
       "<table border=\"1\" class=\"dataframe\">\n",
       "  <thead>\n",
       "    <tr style=\"text-align: right;\">\n",
       "      <th></th>\n",
       "      <th>subreddit</th>\n",
       "      <th>title</th>\n",
       "      <th>selftext</th>\n",
       "    </tr>\n",
       "  </thead>\n",
       "  <tbody>\n",
       "    <tr>\n",
       "      <th>0</th>\n",
       "      <td>legaladvice</td>\n",
       "      <td>2019 Taxes - IRS Free File program now open</td>\n",
       "      <td>Hey folks, “tax season” is upon us, I wanted t...</td>\n",
       "    </tr>\n",
       "    <tr>\n",
       "      <th>1</th>\n",
       "      <td>legaladvice</td>\n",
       "      <td>My sister is wanting my kid after I die</td>\n",
       "      <td>I have always been straight forward and let ev...</td>\n",
       "    </tr>\n",
       "    <tr>\n",
       "      <th>2</th>\n",
       "      <td>legaladvice</td>\n",
       "      <td>Code bootcamp preys on minorities and tricks t...</td>\n",
       "      <td>TLDR: I got tricked into signing an income sha...</td>\n",
       "    </tr>\n",
       "    <tr>\n",
       "      <th>3</th>\n",
       "      <td>legaladvice</td>\n",
       "      <td>Victoria, Australia. Ex employer uses software...</td>\n",
       "      <td>I worked at a business that among many other t...</td>\n",
       "    </tr>\n",
       "    <tr>\n",
       "      <th>4</th>\n",
       "      <td>legaladvice</td>\n",
       "      <td>[MA] I was just named as the defendant in a la...</td>\n",
       "      <td>This morning I woke up to papers saying that I...</td>\n",
       "    </tr>\n",
       "  </tbody>\n",
       "</table>\n",
       "</div>"
      ],
      "text/plain": [
       "     subreddit                                              title  \\\n",
       "0  legaladvice        2019 Taxes - IRS Free File program now open   \n",
       "1  legaladvice            My sister is wanting my kid after I die   \n",
       "2  legaladvice  Code bootcamp preys on minorities and tricks t...   \n",
       "3  legaladvice  Victoria, Australia. Ex employer uses software...   \n",
       "4  legaladvice  [MA] I was just named as the defendant in a la...   \n",
       "\n",
       "                                            selftext  \n",
       "0  Hey folks, “tax season” is upon us, I wanted t...  \n",
       "1  I have always been straight forward and let ev...  \n",
       "2  TLDR: I got tricked into signing an income sha...  \n",
       "3  I worked at a business that among many other t...  \n",
       "4  This morning I woke up to papers saying that I...  "
      ]
     },
     "execution_count": 19,
     "metadata": {},
     "output_type": "execute_result"
    }
   ],
   "source": [
    "#checking the legaladvice dataframe  \n",
    "legaladvice_df.head()"
   ]
  },
  {
   "cell_type": "code",
   "execution_count": 20,
   "metadata": {},
   "outputs": [
    {
     "data": {
      "text/plain": [
       "(1241, 3)"
      ]
     },
     "execution_count": 20,
     "metadata": {},
     "output_type": "execute_result"
    }
   ],
   "source": [
    "legaladvice_df.shape"
   ]
  },
  {
   "cell_type": "markdown",
   "metadata": {},
   "source": [
    "### Subreddit 2 - Excel"
   ]
  },
  {
   "cell_type": "code",
   "execution_count": 44,
   "metadata": {},
   "outputs": [],
   "source": [
    "#url of second subreddit - excel\n",
    "url_2 = 'https://www.reddit.com/r/excel.json'"
   ]
  },
  {
   "cell_type": "code",
   "execution_count": 45,
   "metadata": {},
   "outputs": [],
   "source": [
    "res = requests.get(url)"
   ]
  },
  {
   "cell_type": "code",
   "execution_count": 46,
   "metadata": {},
   "outputs": [
    {
     "data": {
      "text/plain": [
       "429"
      ]
     },
     "execution_count": 46,
     "metadata": {},
     "output_type": "execute_result"
    }
   ],
   "source": [
    "#checking the status of the website\n",
    "res.status_code"
   ]
  },
  {
   "cell_type": "code",
   "execution_count": 47,
   "metadata": {},
   "outputs": [],
   "source": [
    "res = requests.get(url_2, headers={'User-agent': 'Preety'})"
   ]
  },
  {
   "cell_type": "code",
   "execution_count": 48,
   "metadata": {},
   "outputs": [
    {
     "data": {
      "text/plain": [
       "200"
      ]
     },
     "execution_count": 48,
     "metadata": {},
     "output_type": "execute_result"
    }
   ],
   "source": [
    "res.status_code"
   ]
  },
  {
   "cell_type": "code",
   "execution_count": 49,
   "metadata": {},
   "outputs": [
    {
     "name": "stdout",
     "output_type": "stream",
     "text": [
      "https://www.reddit.com/r/excel.json\n",
      "2\n",
      "https://www.reddit.com/r/excel.json?after=t3_ett5n7\n",
      "11\n",
      "https://www.reddit.com/r/excel.json?after=t3_etmegs\n",
      "39\n",
      "https://www.reddit.com/r/excel.json?after=t3_ethkc8\n",
      "2\n",
      "https://www.reddit.com/r/excel.json?after=t3_etbjkp\n",
      "34\n",
      "https://www.reddit.com/r/excel.json?after=t3_etcfxz\n",
      "37\n",
      "https://www.reddit.com/r/excel.json?after=t3_et4vuy\n",
      "56\n",
      "https://www.reddit.com/r/excel.json?after=t3_eszios\n",
      "7\n",
      "https://www.reddit.com/r/excel.json?after=t3_esuhkp\n",
      "31\n",
      "https://www.reddit.com/r/excel.json?after=t3_esvifi\n",
      "58\n",
      "https://www.reddit.com/r/excel.json?after=t3_esl03l\n",
      "40\n",
      "https://www.reddit.com/r/excel.json?after=t3_espg81\n",
      "32\n",
      "https://www.reddit.com/r/excel.json?after=t3_eshkwa\n",
      "32\n",
      "https://www.reddit.com/r/excel.json?after=t3_esf1du\n",
      "31\n",
      "https://www.reddit.com/r/excel.json?after=t3_esdqn9\n",
      "26\n",
      "https://www.reddit.com/r/excel.json?after=t3_esccdo\n",
      "2\n",
      "https://www.reddit.com/r/excel.json?after=t3_es26th\n",
      "40\n",
      "https://www.reddit.com/r/excel.json?after=t3_es0h5u\n",
      "57\n",
      "https://www.reddit.com/r/excel.json?after=t3_eryc4t\n",
      "27\n",
      "https://www.reddit.com/r/excel.json?after=t3_eryt35\n",
      "5\n",
      "https://www.reddit.com/r/excel.json?after=t3_ert2o3\n",
      "21\n",
      "https://www.reddit.com/r/excel.json?after=t3_erll3r\n",
      "54\n",
      "https://www.reddit.com/r/excel.json?after=t3_erfysa\n",
      "19\n",
      "https://www.reddit.com/r/excel.json?after=t3_er9hqb\n",
      "59\n",
      "https://www.reddit.com/r/excel.json?after=t3_erchwm\n",
      "20\n",
      "https://www.reddit.com/r/excel.json?after=t3_erbfum\n",
      "36\n",
      "https://www.reddit.com/r/excel.json?after=t3_er0r8i\n",
      "28\n",
      "https://www.reddit.com/r/excel.json?after=t3_eqhka6\n",
      "40\n",
      "https://www.reddit.com/r/excel.json?after=t3_eqndnt\n",
      "21\n",
      "https://www.reddit.com/r/excel.json?after=t3_eq7xlu\n",
      "9\n",
      "https://www.reddit.com/r/excel.json?after=t3_eq6pz3\n",
      "9\n",
      "https://www.reddit.com/r/excel.json?after=t3_eq31l8\n",
      "55\n",
      "https://www.reddit.com/r/excel.json?after=t3_epysin\n",
      "6\n",
      "https://www.reddit.com/r/excel.json\n",
      "52\n",
      "https://www.reddit.com/r/excel.json?after=t3_etr93n\n",
      "54\n",
      "https://www.reddit.com/r/excel.json?after=t3_etm9w2\n",
      "60\n",
      "https://www.reddit.com/r/excel.json?after=t3_etc97f\n",
      "22\n",
      "https://www.reddit.com/r/excel.json?after=t3_etbg3s\n",
      "48\n",
      "https://www.reddit.com/r/excel.json?after=t3_etcdpe\n",
      "25\n",
      "https://www.reddit.com/r/excel.json?after=t3_esxml7\n",
      "34\n",
      "https://www.reddit.com/r/excel.json?after=t3_eszbgm\n",
      "24\n",
      "https://www.reddit.com/r/excel.json?after=t3_esv9hv\n",
      "33\n",
      "https://www.reddit.com/r/excel.json?after=t3_essk5v\n",
      "31\n",
      "https://www.reddit.com/r/excel.json?after=t3_esqnyt\n",
      "42\n",
      "https://www.reddit.com/r/excel.json?after=t3_esg5yx\n",
      "35\n",
      "https://www.reddit.com/r/excel.json?after=t3_esfpdv\n",
      "32\n",
      "https://www.reddit.com/r/excel.json?after=t3_esi5ib\n",
      "3\n",
      "https://www.reddit.com/r/excel.json?after=t3_esdng4\n",
      "32\n",
      "https://www.reddit.com/r/excel.json?after=t3_esc55d\n",
      "10\n",
      "https://www.reddit.com/r/excel.json?after=t3_es561d\n",
      "6\n"
     ]
    }
   ],
   "source": [
    "#scrapping the data from excel subreddit into json(dictionary) format \n",
    "posts = []\n",
    "after = None\n",
    "\n",
    "for a in range(50):\n",
    "    if after == None:\n",
    "        current_url = url_2\n",
    "    else:\n",
    "        current_url = url_2 + '?after=' + after\n",
    "    print(current_url)\n",
    "    res = requests.get(current_url, headers={'User-agent': 'Preety'})\n",
    "    \n",
    "    if res.status_code != 200:\n",
    "        print('Status error', res.status_code)\n",
    "        break\n",
    "    \n",
    "    current_dict = res.json()\n",
    "    current_posts = [p['data'] for p in current_dict['data']['children']]\n",
    "    posts.extend(current_posts)\n",
    "    after = current_dict['data']['after']\n",
    "    \n",
    "    # generate a random sleep duration to look more 'natural'\n",
    "    sleep_duration = random.randint(2,60)\n",
    "    print(sleep_duration)\n",
    "    time.sleep(sleep_duration)"
   ]
  },
  {
   "cell_type": "code",
   "execution_count": 57,
   "metadata": {},
   "outputs": [
    {
     "name": "stdout",
     "output_type": "stream",
     "text": [
      "https://www.reddit.com/r/excel.json\n",
      "4\n",
      "https://www.reddit.com/r/excel.json?after=t3_etr93n\n",
      "6\n",
      "https://www.reddit.com/r/excel.json?after=t3_etm9w2\n",
      "6\n",
      "https://www.reddit.com/r/excel.json?after=t3_etc97f\n",
      "4\n",
      "https://www.reddit.com/r/excel.json?after=t3_etbg3s\n",
      "6\n",
      "https://www.reddit.com/r/excel.json?after=t3_etcdpe\n",
      "2\n",
      "https://www.reddit.com/r/excel.json?after=t3_esxml7\n",
      "5\n",
      "https://www.reddit.com/r/excel.json?after=t3_eszbgm\n",
      "4\n",
      "https://www.reddit.com/r/excel.json?after=t3_esv9hv\n",
      "2\n",
      "https://www.reddit.com/r/excel.json?after=t3_essk5v\n",
      "2\n",
      "https://www.reddit.com/r/excel.json?after=t3_esqnyt\n",
      "3\n",
      "https://www.reddit.com/r/excel.json?after=t3_esg5yx\n",
      "2\n",
      "https://www.reddit.com/r/excel.json?after=t3_esfpdv\n",
      "5\n",
      "https://www.reddit.com/r/excel.json?after=t3_esi5ib\n",
      "3\n",
      "https://www.reddit.com/r/excel.json?after=t3_esdng4\n",
      "2\n",
      "https://www.reddit.com/r/excel.json?after=t3_esc55d\n",
      "5\n",
      "https://www.reddit.com/r/excel.json?after=t3_es561d\n",
      "5\n",
      "https://www.reddit.com/r/excel.json?after=t3_es1u0u\n",
      "4\n",
      "https://www.reddit.com/r/excel.json?after=t3_ervsx0\n",
      "3\n",
      "https://www.reddit.com/r/excel.json?after=t3_eru196\n",
      "5\n",
      "https://www.reddit.com/r/excel.json?after=t3_ert1qh\n",
      "6\n",
      "https://www.reddit.com/r/excel.json?after=t3_eroe04\n",
      "2\n",
      "https://www.reddit.com/r/excel.json?after=t3_erhy6s\n",
      "3\n",
      "https://www.reddit.com/r/excel.json?after=t3_erfst1\n",
      "6\n",
      "https://www.reddit.com/r/excel.json?after=t3_ergzmx\n",
      "2\n",
      "https://www.reddit.com/r/excel.json?after=t3_eraub0\n",
      "3\n",
      "https://www.reddit.com/r/excel.json?after=t3_er0kf3\n",
      "4\n",
      "https://www.reddit.com/r/excel.json?after=t3_eqquyu\n",
      "5\n",
      "https://www.reddit.com/r/excel.json?after=t3_eqna3f\n",
      "6\n",
      "https://www.reddit.com/r/excel.json?after=t3_eqc60y\n",
      "3\n",
      "https://www.reddit.com/r/excel.json?after=t3_eq3fhs\n",
      "3\n",
      "https://www.reddit.com/r/excel.json?after=t3_eq5xi2\n",
      "5\n",
      "https://www.reddit.com/r/excel.json?after=t3_eq0yju\n",
      "6\n",
      "https://www.reddit.com/r/excel.json\n",
      "4\n",
      "https://www.reddit.com/r/excel.json?after=t3_etr93n\n",
      "6\n",
      "https://www.reddit.com/r/excel.json?after=t3_etm9w2\n",
      "3\n",
      "https://www.reddit.com/r/excel.json?after=t3_etc97f\n",
      "6\n",
      "https://www.reddit.com/r/excel.json?after=t3_etbg3s\n",
      "5\n",
      "https://www.reddit.com/r/excel.json?after=t3_etcdpe\n",
      "6\n",
      "https://www.reddit.com/r/excel.json?after=t3_esxml7\n",
      "5\n",
      "https://www.reddit.com/r/excel.json?after=t3_eszbgm\n",
      "4\n",
      "https://www.reddit.com/r/excel.json?after=t3_esv9hv\n",
      "2\n",
      "https://www.reddit.com/r/excel.json?after=t3_essk5v\n",
      "3\n",
      "https://www.reddit.com/r/excel.json?after=t3_esqnyt\n",
      "4\n",
      "https://www.reddit.com/r/excel.json?after=t3_esg5yx\n",
      "2\n",
      "https://www.reddit.com/r/excel.json?after=t3_esfpdv\n",
      "5\n",
      "https://www.reddit.com/r/excel.json?after=t3_esi5ib\n",
      "6\n",
      "https://www.reddit.com/r/excel.json?after=t3_esdng4\n",
      "4\n",
      "https://www.reddit.com/r/excel.json?after=t3_esc55d\n",
      "6\n",
      "https://www.reddit.com/r/excel.json?after=t3_es561d\n",
      "5\n"
     ]
    }
   ],
   "source": [
    "#saving the posts collected in json format (dictionary) into a csv and dataframe \n",
    "posts = []\n",
    "after = None\n",
    "\n",
    "for a in range(50):\n",
    "    if after == None:\n",
    "        current_url = url_2\n",
    "    else:\n",
    "        current_url = url_2 + '?after=' + after\n",
    "    print(current_url)\n",
    "    res = requests.get(current_url, headers={'User-agent': 'Preety'})\n",
    "    \n",
    "    if res.status_code != 200:\n",
    "        print('Status error', res.status_code)\n",
    "        break\n",
    "    \n",
    "    current_dict = res.json()\n",
    "    current_posts = [p['data'] for p in current_dict['data']['children']]\n",
    "    posts.extend(current_posts)\n",
    "    after = current_dict['data']['after']\n",
    "    \n",
    "    if a > 0:\n",
    "        prev_posts = pd.read_csv('excel.csv')\n",
    "        current_df = pd.DataFrame()\n",
    "        \n",
    "    else:\n",
    "        pd.DataFrame(posts).to_csv('excel.csv', index = False)\n",
    "\n",
    "    # generate a random sleep duration to look more 'natural'\n",
    "    sleep_duration = random.randint(2,6)\n",
    "    print(sleep_duration)\n",
    "    time.sleep(sleep_duration)"
   ]
  },
  {
   "cell_type": "code",
   "execution_count": 58,
   "metadata": {},
   "outputs": [
    {
     "data": {
      "text/plain": [
       "1247"
      ]
     },
     "execution_count": 58,
     "metadata": {},
     "output_type": "execute_result"
    }
   ],
   "source": [
    "#checking the total number of posts/rows for excel subreddit \n",
    "len(posts)"
   ]
  },
  {
   "cell_type": "code",
   "execution_count": 59,
   "metadata": {},
   "outputs": [],
   "source": [
    "#putting the scraped data from excel subreddit in a dataframe; keeping only 3 columns, namely - subreddit, title, selftext for classification purposes\n",
    "excel_df = pd.DataFrame(posts, columns = ['subreddit', 'title', 'selftext']).to_csv('excel.csv', index = False)"
   ]
  },
  {
   "cell_type": "code",
   "execution_count": 62,
   "metadata": {},
   "outputs": [],
   "source": [
    "#saving the dataframe into a csv file \n",
    "excel_df = pd.read_csv('excel.csv')"
   ]
  },
  {
   "cell_type": "code",
   "execution_count": 63,
   "metadata": {},
   "outputs": [
    {
     "data": {
      "text/html": [
       "<div>\n",
       "<style scoped>\n",
       "    .dataframe tbody tr th:only-of-type {\n",
       "        vertical-align: middle;\n",
       "    }\n",
       "\n",
       "    .dataframe tbody tr th {\n",
       "        vertical-align: top;\n",
       "    }\n",
       "\n",
       "    .dataframe thead th {\n",
       "        text-align: right;\n",
       "    }\n",
       "</style>\n",
       "<table border=\"1\" class=\"dataframe\">\n",
       "  <thead>\n",
       "    <tr style=\"text-align: right;\">\n",
       "      <th></th>\n",
       "      <th>subreddit</th>\n",
       "      <th>title</th>\n",
       "      <th>selftext</th>\n",
       "    </tr>\n",
       "  </thead>\n",
       "  <tbody>\n",
       "    <tr>\n",
       "      <th>0</th>\n",
       "      <td>excel</td>\n",
       "      <td>Dynamic Arrays released along with the FILTER,...</td>\n",
       "      <td>Dynamic arrays has released to all Office 365 ...</td>\n",
       "    </tr>\n",
       "    <tr>\n",
       "      <th>1</th>\n",
       "      <td>excel</td>\n",
       "      <td>Determining the vertex/peak of an irregular cu...</td>\n",
       "      <td>Hi All,\\n\\nDoes anyone know how to find the ma...</td>\n",
       "    </tr>\n",
       "    <tr>\n",
       "      <th>2</th>\n",
       "      <td>excel</td>\n",
       "      <td>Enter data on a field/pop-up then fills on a t...</td>\n",
       "      <td>I want to input data on a cell or a pop up fro...</td>\n",
       "    </tr>\n",
       "    <tr>\n",
       "      <th>3</th>\n",
       "      <td>excel</td>\n",
       "      <td>Is there a way to extract data from a Google s...</td>\n",
       "      <td>Like, can i have a range in Excel reference a ...</td>\n",
       "    </tr>\n",
       "    <tr>\n",
       "      <th>4</th>\n",
       "      <td>excel</td>\n",
       "      <td>Trying to calculate the minimum of (p&amp;amp;l) d...</td>\n",
       "      <td>need to calculate profit divided by sales in s...</td>\n",
       "    </tr>\n",
       "  </tbody>\n",
       "</table>\n",
       "</div>"
      ],
      "text/plain": [
       "  subreddit                                              title  \\\n",
       "0     excel  Dynamic Arrays released along with the FILTER,...   \n",
       "1     excel  Determining the vertex/peak of an irregular cu...   \n",
       "2     excel  Enter data on a field/pop-up then fills on a t...   \n",
       "3     excel  Is there a way to extract data from a Google s...   \n",
       "4     excel  Trying to calculate the minimum of (p&amp;l) d...   \n",
       "\n",
       "                                            selftext  \n",
       "0  Dynamic arrays has released to all Office 365 ...  \n",
       "1  Hi All,\\n\\nDoes anyone know how to find the ma...  \n",
       "2  I want to input data on a cell or a pop up fro...  \n",
       "3  Like, can i have a range in Excel reference a ...  \n",
       "4  need to calculate profit divided by sales in s...  "
      ]
     },
     "execution_count": 63,
     "metadata": {},
     "output_type": "execute_result"
    }
   ],
   "source": [
    "excel_df.head()"
   ]
  },
  {
   "cell_type": "code",
   "execution_count": 76,
   "metadata": {},
   "outputs": [
    {
     "data": {
      "text/plain": [
       "(1247, 3)"
      ]
     },
     "execution_count": 76,
     "metadata": {},
     "output_type": "execute_result"
    }
   ],
   "source": [
    "#checking the dimensions of excel dataframe - 1247 rows and 3 columns \n",
    "excel_df.shape"
   ]
  },
  {
   "cell_type": "code",
   "execution_count": 77,
   "metadata": {},
   "outputs": [
    {
     "data": {
      "text/plain": [
       "subreddit    0\n",
       "title        0\n",
       "selftext     0\n",
       "dtype: int64"
      ]
     },
     "execution_count": 77,
     "metadata": {},
     "output_type": "execute_result"
    }
   ],
   "source": [
    "#checking null values in the three columns of excel dataframe \n",
    "excel_df.isnull().sum()"
   ]
  },
  {
   "cell_type": "code",
   "execution_count": 79,
   "metadata": {},
   "outputs": [
    {
     "data": {
      "text/plain": [
       "0       False\n",
       "1       False\n",
       "2       False\n",
       "3       False\n",
       "4       False\n",
       "        ...  \n",
       "1236     True\n",
       "1237     True\n",
       "1238     True\n",
       "1239     True\n",
       "1240     True\n",
       "Length: 1241, dtype: bool"
      ]
     },
     "execution_count": 79,
     "metadata": {},
     "output_type": "execute_result"
    }
   ],
   "source": [
    "#checking the duplicated rows in legaladvice dataframe \n",
    "legaladvice_df.duplicated()"
   ]
  },
  {
   "cell_type": "code",
   "execution_count": 82,
   "metadata": {},
   "outputs": [],
   "source": [
    "#dropping duplicates from legaladvice dataframe\n",
    "legaladvice_df.drop_duplicates(inplace=True)"
   ]
  },
  {
   "cell_type": "code",
   "execution_count": 83,
   "metadata": {},
   "outputs": [
    {
     "data": {
      "text/plain": [
       "(994, 3)"
      ]
     },
     "execution_count": 83,
     "metadata": {},
     "output_type": "execute_result"
    }
   ],
   "source": [
    "#checking the number of rows and columns after dropping duplicates from legaladvice dataframe\n",
    "legaladvice_df.shape"
   ]
  },
  {
   "cell_type": "code",
   "execution_count": 84,
   "metadata": {},
   "outputs": [],
   "source": [
    "#dropping duplicates from excel dataframe\n",
    "excel_df.drop_duplicates(inplace=True)"
   ]
  },
  {
   "cell_type": "code",
   "execution_count": 101,
   "metadata": {},
   "outputs": [
    {
     "data": {
      "text/plain": [
       "(821, 3)"
      ]
     },
     "execution_count": 101,
     "metadata": {},
     "output_type": "execute_result"
    }
   ],
   "source": [
    "#checking the number of rows and columns after dropping duplicates from excel dataframe\n",
    "excel_df.shape"
   ]
  },
  {
   "cell_type": "code",
   "execution_count": 104,
   "metadata": {},
   "outputs": [],
   "source": [
    "#concatenating the legaladvice and excel dataframes into a final dataframe \n",
    "final = pd.concat([legaladvice_df, excel_df])"
   ]
  },
  {
   "cell_type": "code",
   "execution_count": 105,
   "metadata": {},
   "outputs": [
    {
     "data": {
      "text/html": [
       "<div>\n",
       "<style scoped>\n",
       "    .dataframe tbody tr th:only-of-type {\n",
       "        vertical-align: middle;\n",
       "    }\n",
       "\n",
       "    .dataframe tbody tr th {\n",
       "        vertical-align: top;\n",
       "    }\n",
       "\n",
       "    .dataframe thead th {\n",
       "        text-align: right;\n",
       "    }\n",
       "</style>\n",
       "<table border=\"1\" class=\"dataframe\">\n",
       "  <thead>\n",
       "    <tr style=\"text-align: right;\">\n",
       "      <th></th>\n",
       "      <th>subreddit</th>\n",
       "      <th>title</th>\n",
       "      <th>selftext</th>\n",
       "    </tr>\n",
       "  </thead>\n",
       "  <tbody>\n",
       "    <tr>\n",
       "      <th>0</th>\n",
       "      <td>legaladvice</td>\n",
       "      <td>2019 Taxes - IRS Free File program now open</td>\n",
       "      <td>Hey folks, “tax season” is upon us, I wanted t...</td>\n",
       "    </tr>\n",
       "    <tr>\n",
       "      <th>1</th>\n",
       "      <td>legaladvice</td>\n",
       "      <td>My sister is wanting my kid after I die</td>\n",
       "      <td>I have always been straight forward and let ev...</td>\n",
       "    </tr>\n",
       "    <tr>\n",
       "      <th>2</th>\n",
       "      <td>legaladvice</td>\n",
       "      <td>Code bootcamp preys on minorities and tricks t...</td>\n",
       "      <td>TLDR: I got tricked into signing an income sha...</td>\n",
       "    </tr>\n",
       "    <tr>\n",
       "      <th>3</th>\n",
       "      <td>legaladvice</td>\n",
       "      <td>Victoria, Australia. Ex employer uses software...</td>\n",
       "      <td>I worked at a business that among many other t...</td>\n",
       "    </tr>\n",
       "    <tr>\n",
       "      <th>4</th>\n",
       "      <td>legaladvice</td>\n",
       "      <td>[MA] I was just named as the defendant in a la...</td>\n",
       "      <td>This morning I woke up to papers saying that I...</td>\n",
       "    </tr>\n",
       "  </tbody>\n",
       "</table>\n",
       "</div>"
      ],
      "text/plain": [
       "     subreddit                                              title  \\\n",
       "0  legaladvice        2019 Taxes - IRS Free File program now open   \n",
       "1  legaladvice            My sister is wanting my kid after I die   \n",
       "2  legaladvice  Code bootcamp preys on minorities and tricks t...   \n",
       "3  legaladvice  Victoria, Australia. Ex employer uses software...   \n",
       "4  legaladvice  [MA] I was just named as the defendant in a la...   \n",
       "\n",
       "                                            selftext  \n",
       "0  Hey folks, “tax season” is upon us, I wanted t...  \n",
       "1  I have always been straight forward and let ev...  \n",
       "2  TLDR: I got tricked into signing an income sha...  \n",
       "3  I worked at a business that among many other t...  \n",
       "4  This morning I woke up to papers saying that I...  "
      ]
     },
     "execution_count": 105,
     "metadata": {},
     "output_type": "execute_result"
    }
   ],
   "source": [
    "final.head()"
   ]
  },
  {
   "cell_type": "code",
   "execution_count": 106,
   "metadata": {},
   "outputs": [
    {
     "data": {
      "text/html": [
       "<div>\n",
       "<style scoped>\n",
       "    .dataframe tbody tr th:only-of-type {\n",
       "        vertical-align: middle;\n",
       "    }\n",
       "\n",
       "    .dataframe tbody tr th {\n",
       "        vertical-align: top;\n",
       "    }\n",
       "\n",
       "    .dataframe thead th {\n",
       "        text-align: right;\n",
       "    }\n",
       "</style>\n",
       "<table border=\"1\" class=\"dataframe\">\n",
       "  <thead>\n",
       "    <tr style=\"text-align: right;\">\n",
       "      <th></th>\n",
       "      <th>subreddit</th>\n",
       "      <th>title</th>\n",
       "      <th>selftext</th>\n",
       "    </tr>\n",
       "  </thead>\n",
       "  <tbody>\n",
       "    <tr>\n",
       "      <th>816</th>\n",
       "      <td>excel</td>\n",
       "      <td>How do I code a sum function for a coded surve...</td>\n",
       "      <td>\\n\\nHey guys, I don't know a lot about excel ...</td>\n",
       "    </tr>\n",
       "    <tr>\n",
       "      <th>817</th>\n",
       "      <td>excel</td>\n",
       "      <td>copy &amp;amp; paste values using a VB code / Macro</td>\n",
       "      <td>Hi guys,\\n\\ni'm looking for a VB code that can...</td>\n",
       "    </tr>\n",
       "    <tr>\n",
       "      <th>818</th>\n",
       "      <td>excel</td>\n",
       "      <td>How to Increase all Values in a Column by a Fi...</td>\n",
       "      <td>I have a column of a few sequential hundred va...</td>\n",
       "    </tr>\n",
       "    <tr>\n",
       "      <th>819</th>\n",
       "      <td>excel</td>\n",
       "      <td>Excel displaying extra black window in task view</td>\n",
       "      <td>When I open excel it open a single windows but...</td>\n",
       "    </tr>\n",
       "    <tr>\n",
       "      <th>820</th>\n",
       "      <td>excel</td>\n",
       "      <td>I want to look for a specific word in a table ...</td>\n",
       "      <td>I am tasked with displaying the daily change i...</td>\n",
       "    </tr>\n",
       "  </tbody>\n",
       "</table>\n",
       "</div>"
      ],
      "text/plain": [
       "    subreddit                                              title  \\\n",
       "816     excel  How do I code a sum function for a coded surve...   \n",
       "817     excel    copy &amp; paste values using a VB code / Macro   \n",
       "818     excel  How to Increase all Values in a Column by a Fi...   \n",
       "819     excel   Excel displaying extra black window in task view   \n",
       "820     excel  I want to look for a specific word in a table ...   \n",
       "\n",
       "                                              selftext  \n",
       "816   \\n\\nHey guys, I don't know a lot about excel ...  \n",
       "817  Hi guys,\\n\\ni'm looking for a VB code that can...  \n",
       "818  I have a column of a few sequential hundred va...  \n",
       "819  When I open excel it open a single windows but...  \n",
       "820  I am tasked with displaying the daily change i...  "
      ]
     },
     "execution_count": 106,
     "metadata": {},
     "output_type": "execute_result"
    }
   ],
   "source": [
    "final.tail()"
   ]
  },
  {
   "cell_type": "code",
   "execution_count": 107,
   "metadata": {},
   "outputs": [
    {
     "data": {
      "text/plain": [
       "(1815, 3)"
      ]
     },
     "execution_count": 107,
     "metadata": {},
     "output_type": "execute_result"
    }
   ],
   "source": [
    "#checking the dimensions of the final dataframe (this has both excel and legaladvice subreddit)\n",
    "final.shape"
   ]
  },
  {
   "cell_type": "code",
   "execution_count": 108,
   "metadata": {},
   "outputs": [],
   "source": [
    "#saving the final concatenated dataframe to csv file\n",
    "final.to_csv('final.csv', index=False)"
   ]
  },
  {
   "cell_type": "code",
   "execution_count": null,
   "metadata": {},
   "outputs": [],
   "source": []
  }
 ],
 "metadata": {
  "kernelspec": {
   "display_name": "Python 3",
   "language": "python",
   "name": "python3"
  },
  "language_info": {
   "codemirror_mode": {
    "name": "ipython",
    "version": 3
   },
   "file_extension": ".py",
   "mimetype": "text/x-python",
   "name": "python",
   "nbconvert_exporter": "python",
   "pygments_lexer": "ipython3",
   "version": "3.7.4"
  }
 },
 "nbformat": 4,
 "nbformat_minor": 2
}
