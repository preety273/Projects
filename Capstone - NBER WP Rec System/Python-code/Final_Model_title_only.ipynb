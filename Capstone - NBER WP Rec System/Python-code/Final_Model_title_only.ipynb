{
 "cells": [
  {
   "cell_type": "markdown",
   "metadata": {},
   "source": [
    "# Modeling (Title only)"
   ]
  },
  {
   "cell_type": "code",
   "execution_count": 1,
   "metadata": {},
   "outputs": [],
   "source": [
    "# Import Libraries\n",
    "\n",
    "import pandas as pd\n",
    "import numpy as np\n",
    "import seaborn as sns\n",
    "import matplotlib.pyplot as plt\n",
    "\n",
    "# Import natural language toolkit\n",
    "import nltk\n",
    "\n",
    "# Import tokenizer\n",
    "from nltk.tokenize import RegexpTokenizer\n",
    "\n",
    "# Import lemmatizer\n",
    "from nltk.stem import WordNetLemmatizer\n",
    "\n",
    "# Import regular expression\n",
    "import re\n",
    "\n",
    "# Import wordcloud \n",
    "from wordcloud import WordCloud, STOPWORDS, ImageColorGenerator\n",
    "\n",
    "# Import Count Vectorizer\n",
    "from sklearn.feature_extraction.text import CountVectorizer\n",
    "\n",
    "#Import TfIdfVectorizer from scikit-learn\n",
    "from sklearn.feature_extraction.text import TfidfVectorizer\n",
    "\n",
    "# Import linear_kernel\n",
    "from sklearn.metrics.pairwise import linear_kernel\n",
    "\n",
    "# Import cosine similarity\n",
    "from sklearn.metrics.pairwise import cosine_similarity\n",
    "\n",
    "# Import sparse to make matrix sparse (where most of the elements are zero)\n",
    "from scipy import sparse"
   ]
  },
  {
   "cell_type": "code",
   "execution_count": 2,
   "metadata": {},
   "outputs": [],
   "source": [
    "#setting the display options\n",
    "\n",
    "pd.set_option('display.max_colwidth', -1)\n",
    "pd.set_option('display.max_rows', None)\n",
    "pd.set_option('display.max_columns', None)\n",
    "pd.set_option('display.width', None)"
   ]
  },
  {
   "cell_type": "code",
   "execution_count": 3,
   "metadata": {},
   "outputs": [
    {
     "data": {
      "text/html": [
       "<div>\n",
       "<style scoped>\n",
       "    .dataframe tbody tr th:only-of-type {\n",
       "        vertical-align: middle;\n",
       "    }\n",
       "\n",
       "    .dataframe tbody tr th {\n",
       "        vertical-align: top;\n",
       "    }\n",
       "\n",
       "    .dataframe thead th {\n",
       "        text-align: right;\n",
       "    }\n",
       "</style>\n",
       "<table border=\"1\" class=\"dataframe\">\n",
       "  <thead>\n",
       "    <tr style=\"text-align: right;\">\n",
       "      <th></th>\n",
       "      <th>Unnamed: 0</th>\n",
       "      <th>paper</th>\n",
       "      <th>year</th>\n",
       "      <th>month</th>\n",
       "      <th>title</th>\n",
       "      <th>author</th>\n",
       "      <th>code</th>\n",
       "      <th>program</th>\n",
       "    </tr>\n",
       "  </thead>\n",
       "  <tbody>\n",
       "    <tr>\n",
       "      <td>0</td>\n",
       "      <td>73</td>\n",
       "      <td>74</td>\n",
       "      <td>1975</td>\n",
       "      <td>March</td>\n",
       "      <td>Variation Across Household in the Rate of Inflation</td>\n",
       "      <td>[Robert T Michael]</td>\n",
       "      <td>w00074</td>\n",
       "      <td>[Economic Fluctuations and Growth]</td>\n",
       "    </tr>\n",
       "    <tr>\n",
       "      <td>1</td>\n",
       "      <td>86</td>\n",
       "      <td>87</td>\n",
       "      <td>1975</td>\n",
       "      <td>May</td>\n",
       "      <td>Exports and Foreign Investment in the Pharmaceutical Industry</td>\n",
       "      <td>[Merle Yahr Weiss, Robert E Lipsey]</td>\n",
       "      <td>w00087</td>\n",
       "      <td>[International Trade and Investment, International Finance and Macroeconomics]</td>\n",
       "    </tr>\n",
       "    <tr>\n",
       "      <td>2</td>\n",
       "      <td>106</td>\n",
       "      <td>107</td>\n",
       "      <td>1975</td>\n",
       "      <td>October</td>\n",
       "      <td>Social Security and Retirement Decisions</td>\n",
       "      <td>[Michael J Boskin]</td>\n",
       "      <td>w00107</td>\n",
       "      <td>[Public Economics]</td>\n",
       "    </tr>\n",
       "    <tr>\n",
       "      <td>3</td>\n",
       "      <td>115</td>\n",
       "      <td>116</td>\n",
       "      <td>1975</td>\n",
       "      <td>November</td>\n",
       "      <td>Notes on the Tax Treatment of Human Capital</td>\n",
       "      <td>[Michael J Boskin]</td>\n",
       "      <td>w00116</td>\n",
       "      <td>[Public Economics]</td>\n",
       "    </tr>\n",
       "    <tr>\n",
       "      <td>4</td>\n",
       "      <td>116</td>\n",
       "      <td>117</td>\n",
       "      <td>1980</td>\n",
       "      <td>April</td>\n",
       "      <td>Job Mobility and Earnings Growth</td>\n",
       "      <td>[Ann P Bartel]</td>\n",
       "      <td>w00117</td>\n",
       "      <td>[Labor Studies]</td>\n",
       "    </tr>\n",
       "  </tbody>\n",
       "</table>\n",
       "</div>"
      ],
      "text/plain": [
       "   Unnamed: 0  paper  year     month  \\\n",
       "0  73          74     1975  March      \n",
       "1  86          87     1975  May        \n",
       "2  106         107    1975  October    \n",
       "3  115         116    1975  November   \n",
       "4  116         117    1980  April      \n",
       "\n",
       "                                                           title  \\\n",
       "0  Variation Across Household in the Rate of Inflation             \n",
       "1  Exports and Foreign Investment in the Pharmaceutical Industry   \n",
       "2  Social Security and Retirement Decisions                        \n",
       "3  Notes on the Tax Treatment of Human Capital                     \n",
       "4  Job Mobility and Earnings Growth                                \n",
       "\n",
       "                                author    code  \\\n",
       "0  [Robert T Michael]                   w00074   \n",
       "1  [Merle Yahr Weiss, Robert E Lipsey]  w00087   \n",
       "2  [Michael J Boskin]                   w00107   \n",
       "3  [Michael J Boskin]                   w00116   \n",
       "4  [Ann P Bartel]                       w00117   \n",
       "\n",
       "                                                                          program  \n",
       "0  [Economic Fluctuations and Growth]                                              \n",
       "1  [International Trade and Investment, International Finance and Macroeconomics]  \n",
       "2  [Public Economics]                                                              \n",
       "3  [Public Economics]                                                              \n",
       "4  [Labor Studies]                                                                 "
      ]
     },
     "execution_count": 3,
     "metadata": {},
     "output_type": "execute_result"
    }
   ],
   "source": [
    "#reading the datafile for Text Preprocessing\n",
    "\n",
    "df = pd.read_csv('../data/df.csv', converters={'author': eval, 'program': eval})\n",
    "df.head()"
   ]
  },
  {
   "cell_type": "code",
   "execution_count": 4,
   "metadata": {},
   "outputs": [],
   "source": [
    "#dropping the column = Unnamed:0\n",
    "df.drop(columns='Unnamed: 0', axis=1,inplace=True)"
   ]
  },
  {
   "cell_type": "code",
   "execution_count": 5,
   "metadata": {},
   "outputs": [
    {
     "data": {
      "text/html": [
       "<div>\n",
       "<style scoped>\n",
       "    .dataframe tbody tr th:only-of-type {\n",
       "        vertical-align: middle;\n",
       "    }\n",
       "\n",
       "    .dataframe tbody tr th {\n",
       "        vertical-align: top;\n",
       "    }\n",
       "\n",
       "    .dataframe thead th {\n",
       "        text-align: right;\n",
       "    }\n",
       "</style>\n",
       "<table border=\"1\" class=\"dataframe\">\n",
       "  <thead>\n",
       "    <tr style=\"text-align: right;\">\n",
       "      <th></th>\n",
       "      <th>paper</th>\n",
       "      <th>year</th>\n",
       "      <th>month</th>\n",
       "      <th>title</th>\n",
       "      <th>author</th>\n",
       "      <th>code</th>\n",
       "      <th>program</th>\n",
       "    </tr>\n",
       "  </thead>\n",
       "  <tbody>\n",
       "    <tr>\n",
       "      <td>0</td>\n",
       "      <td>74</td>\n",
       "      <td>1975</td>\n",
       "      <td>March</td>\n",
       "      <td>Variation Across Household in the Rate of Inflation</td>\n",
       "      <td>[Robert T Michael]</td>\n",
       "      <td>w00074</td>\n",
       "      <td>[Economic Fluctuations and Growth]</td>\n",
       "    </tr>\n",
       "    <tr>\n",
       "      <td>1</td>\n",
       "      <td>87</td>\n",
       "      <td>1975</td>\n",
       "      <td>May</td>\n",
       "      <td>Exports and Foreign Investment in the Pharmaceutical Industry</td>\n",
       "      <td>[Merle Yahr Weiss, Robert E Lipsey]</td>\n",
       "      <td>w00087</td>\n",
       "      <td>[International Trade and Investment, International Finance and Macroeconomics]</td>\n",
       "    </tr>\n",
       "    <tr>\n",
       "      <td>2</td>\n",
       "      <td>107</td>\n",
       "      <td>1975</td>\n",
       "      <td>October</td>\n",
       "      <td>Social Security and Retirement Decisions</td>\n",
       "      <td>[Michael J Boskin]</td>\n",
       "      <td>w00107</td>\n",
       "      <td>[Public Economics]</td>\n",
       "    </tr>\n",
       "    <tr>\n",
       "      <td>3</td>\n",
       "      <td>116</td>\n",
       "      <td>1975</td>\n",
       "      <td>November</td>\n",
       "      <td>Notes on the Tax Treatment of Human Capital</td>\n",
       "      <td>[Michael J Boskin]</td>\n",
       "      <td>w00116</td>\n",
       "      <td>[Public Economics]</td>\n",
       "    </tr>\n",
       "    <tr>\n",
       "      <td>4</td>\n",
       "      <td>117</td>\n",
       "      <td>1980</td>\n",
       "      <td>April</td>\n",
       "      <td>Job Mobility and Earnings Growth</td>\n",
       "      <td>[Ann P Bartel]</td>\n",
       "      <td>w00117</td>\n",
       "      <td>[Labor Studies]</td>\n",
       "    </tr>\n",
       "  </tbody>\n",
       "</table>\n",
       "</div>"
      ],
      "text/plain": [
       "   paper  year     month  \\\n",
       "0  74     1975  March      \n",
       "1  87     1975  May        \n",
       "2  107    1975  October    \n",
       "3  116    1975  November   \n",
       "4  117    1980  April      \n",
       "\n",
       "                                                           title  \\\n",
       "0  Variation Across Household in the Rate of Inflation             \n",
       "1  Exports and Foreign Investment in the Pharmaceutical Industry   \n",
       "2  Social Security and Retirement Decisions                        \n",
       "3  Notes on the Tax Treatment of Human Capital                     \n",
       "4  Job Mobility and Earnings Growth                                \n",
       "\n",
       "                                author    code  \\\n",
       "0  [Robert T Michael]                   w00074   \n",
       "1  [Merle Yahr Weiss, Robert E Lipsey]  w00087   \n",
       "2  [Michael J Boskin]                   w00107   \n",
       "3  [Michael J Boskin]                   w00116   \n",
       "4  [Ann P Bartel]                       w00117   \n",
       "\n",
       "                                                                          program  \n",
       "0  [Economic Fluctuations and Growth]                                              \n",
       "1  [International Trade and Investment, International Finance and Macroeconomics]  \n",
       "2  [Public Economics]                                                              \n",
       "3  [Public Economics]                                                              \n",
       "4  [Labor Studies]                                                                 "
      ]
     },
     "execution_count": 5,
     "metadata": {},
     "output_type": "execute_result"
    }
   ],
   "source": [
    "df.head()"
   ]
  },
  {
   "cell_type": "code",
   "execution_count": 6,
   "metadata": {},
   "outputs": [],
   "source": [
    "#instantiate tokenizer\n",
    "tokenizer = RegexpTokenizer(r'\\w+')"
   ]
  },
  {
   "cell_type": "code",
   "execution_count": 7,
   "metadata": {},
   "outputs": [],
   "source": [
    "#tokenizing the title of working papers\n",
    "df['title'] = df['title'].apply(lambda x: tokenizer.tokenize(x))"
   ]
  },
  {
   "cell_type": "code",
   "execution_count": 8,
   "metadata": {},
   "outputs": [],
   "source": [
    "#Create stopword list\n",
    "#add new words to the stopwords\n",
    "stopwords = set(STOPWORDS)\n",
    "new_words = [\"may\",\"aren\", \"couldn\", \"didn\", \"doesn\", \"don\", \"hadn\", \"hasn\", \"haven\", \"isn\", \"let\", \n",
    "                  \"ll\", \"mustn\", \"re\", \"shan\", \"shouldn\", \"ve\", \"wasn\", \"weren\", \"won\", \"wouldn\", \"t\",\n",
    "            \"within\",\"upon\", \"greater\",\"effect\",\"new\", \"the\"]\n",
    "stopwords = stopwords.union(new_words)"
   ]
  },
  {
   "cell_type": "code",
   "execution_count": 9,
   "metadata": {},
   "outputs": [],
   "source": [
    "#instantiate lemmatizer\n",
    "lemmatizer = WordNetLemmatizer()"
   ]
  },
  {
   "cell_type": "code",
   "execution_count": 10,
   "metadata": {},
   "outputs": [],
   "source": [
    "#function to lemmatize the title text\n",
    "def word_lemmatizer(title):\n",
    "    lem_text = \" \".join([lemmatizer.lemmatize(i) for i in title if not i in stopwords])\n",
    "    return lem_text"
   ]
  },
  {
   "cell_type": "code",
   "execution_count": 11,
   "metadata": {},
   "outputs": [
    {
     "data": {
      "text/plain": [
       "0    Variation Across Household Rate Inflation         \n",
       "1    Exports Foreign Investment Pharmaceutical Industry\n",
       "2    Social Security Retirement Decisions              \n",
       "3    Notes Tax Treatment Human Capital                 \n",
       "4    Job Mobility Earnings Growth                      \n",
       "Name: title, dtype: object"
      ]
     },
     "execution_count": 11,
     "metadata": {},
     "output_type": "execute_result"
    }
   ],
   "source": [
    "#applying the lemmatizer and checking the title column\n",
    "df['title'] = df['title'].apply(lambda x: word_lemmatizer(x))\n",
    "df['title'].head()"
   ]
  },
  {
   "cell_type": "code",
   "execution_count": 12,
   "metadata": {},
   "outputs": [],
   "source": [
    "#joining all titles\n",
    "title_text = \" \".join(text for text in df['title'])"
   ]
  },
  {
   "cell_type": "code",
   "execution_count": 13,
   "metadata": {},
   "outputs": [
    {
     "data": {
      "text/plain": [
       "(20696, 15000)"
      ]
     },
     "execution_count": 13,
     "metadata": {},
     "output_type": "execute_result"
    }
   ],
   "source": [
    "#instantiate the Count Vectorizer\n",
    "cvec = CountVectorizer(max_df=0.8,stop_words=stopwords, max_features=15000, ngram_range=(2,3))\n",
    "\n",
    "#construct the required CVEC by fitting anf tranforming the data\n",
    "cvec_matrix = cvec.fit_transform(df['title'])\n",
    "\n",
    "#output the shape of CVEC_matrix\n",
    "cvec_matrix.shape"
   ]
  },
  {
   "cell_type": "code",
   "execution_count": 14,
   "metadata": {},
   "outputs": [],
   "source": [
    "#checking the vocabulary in the matrix\n",
    "# print(cvec.get_feature_names())"
   ]
  },
  {
   "cell_type": "code",
   "execution_count": 15,
   "metadata": {},
   "outputs": [
    {
     "data": {
      "text/plain": [
       "(20696, 15000)"
      ]
     },
     "execution_count": 15,
     "metadata": {},
     "output_type": "execute_result"
    }
   ],
   "source": [
    "#Import TfIdfVectorizer from scikit-learn\n",
    "from sklearn.feature_extraction.text import TfidfVectorizer\n",
    "\n",
    "#Define a TF-IDF Vectorizer Object. Remove all english stop words such as 'the', 'a'\n",
    "tfidf = TfidfVectorizer(max_df=0.8,stop_words=stopwords, max_features=15000,ngram_range=(2, 3),)\n",
    "\n",
    "# #Replace NaN with an empty string\n",
    "# metadata['overview'] = metadata['overview'].fillna('')\n",
    "\n",
    "#Construct the required TF-IDF matrix by fitting and transforming the data\n",
    "tfidf_matrix = tfidf.fit_transform(df['title'])\n",
    "\n",
    "#Output the shape of tfidf_matrix\n",
    "tfidf_matrix.shape"
   ]
  },
  {
   "cell_type": "code",
   "execution_count": 16,
   "metadata": {},
   "outputs": [],
   "source": [
    "# Compute the cosine similarity matrix\n",
    "cosine_sim_1 = linear_kernel(tfidf_matrix, tfidf_matrix)"
   ]
  },
  {
   "cell_type": "code",
   "execution_count": 17,
   "metadata": {},
   "outputs": [
    {
     "data": {
      "text/plain": [
       "array([[1., 0., 0., ..., 0., 0., 0.],\n",
       "       [0., 1., 0., ..., 0., 0., 0.],\n",
       "       [0., 0., 1., ..., 0., 0., 0.],\n",
       "       ...,\n",
       "       [0., 0., 0., ..., 1., 0., 0.],\n",
       "       [0., 0., 0., ..., 0., 0., 0.],\n",
       "       [0., 0., 0., ..., 0., 0., 1.]])"
      ]
     },
     "execution_count": 17,
     "metadata": {},
     "output_type": "execute_result"
    }
   ],
   "source": [
    "cosine_sim_1"
   ]
  },
  {
   "cell_type": "code",
   "execution_count": 18,
   "metadata": {},
   "outputs": [],
   "source": [
    "# Compute the cosine similarity matrix\n",
    "cosine_sim = cosine_similarity(cvec_matrix, cvec_matrix)"
   ]
  },
  {
   "cell_type": "code",
   "execution_count": 19,
   "metadata": {
    "scrolled": true
   },
   "outputs": [
    {
     "data": {
      "text/plain": [
       "array([[1., 0., 0., ..., 0., 0., 0.],\n",
       "       [0., 1., 0., ..., 0., 0., 0.],\n",
       "       [0., 0., 1., ..., 0., 0., 0.],\n",
       "       ...,\n",
       "       [0., 0., 0., ..., 1., 0., 0.],\n",
       "       [0., 0., 0., ..., 0., 0., 0.],\n",
       "       [0., 0., 0., ..., 0., 0., 1.]])"
      ]
     },
     "execution_count": 19,
     "metadata": {},
     "output_type": "execute_result"
    }
   ],
   "source": [
    "cosine_sim"
   ]
  },
  {
   "cell_type": "markdown",
   "metadata": {},
   "source": [
    "### Recommender System using Count Vectorizer"
   ]
  },
  {
   "cell_type": "code",
   "execution_count": 20,
   "metadata": {},
   "outputs": [],
   "source": [
    "#Construct a reverse map of indices and movie titles\n",
    "indices = pd.Series(df.index, index=df['title']).drop_duplicates()\n",
    "\n",
    "# Function that takes in paper title as input and outputs most similar papers\n",
    "def get_recommendations(title, cosine_sim=cosine_sim):\n",
    "    # Get the index of the wp that matches the title\n",
    "    idx = indices[title]\n",
    "\n",
    "    # Get the pairwsie similarity scores of all papers with that paper\n",
    "    sim_scores = list(enumerate(cosine_sim[idx]))\n",
    "\n",
    "    # Sort the wp based on the similarity scores\n",
    "    sim_scores = sorted(sim_scores, key=lambda x: x[1], reverse=True)\n",
    "\n",
    "    # Get the scores of the 10 most similar wp\n",
    "    sim_scores = sim_scores[1:11]\n",
    "\n",
    "    # Get the wp indices\n",
    "    wp_indices = [i[0] for i in sim_scores]\n",
    "\n",
    "    # Return the top 10 most similar working papers\n",
    "    return pd.DataFrame({'year_published': df['year'].iloc[wp_indices],\n",
    "                         'author': df['author'].iloc[wp_indices],\n",
    "                         'title': df['title'].iloc[wp_indices],\n",
    "                        'program': df['program'].iloc[wp_indices]})"
   ]
  },
  {
   "cell_type": "code",
   "execution_count": 21,
   "metadata": {},
   "outputs": [
    {
     "data": {
      "text/html": [
       "<div>\n",
       "<style scoped>\n",
       "    .dataframe tbody tr th:only-of-type {\n",
       "        vertical-align: middle;\n",
       "    }\n",
       "\n",
       "    .dataframe tbody tr th {\n",
       "        vertical-align: top;\n",
       "    }\n",
       "\n",
       "    .dataframe thead th {\n",
       "        text-align: right;\n",
       "    }\n",
       "</style>\n",
       "<table border=\"1\" class=\"dataframe\">\n",
       "  <thead>\n",
       "    <tr style=\"text-align: right;\">\n",
       "      <th></th>\n",
       "      <th>year_published</th>\n",
       "      <th>author</th>\n",
       "      <th>title</th>\n",
       "      <th>program</th>\n",
       "    </tr>\n",
       "  </thead>\n",
       "  <tbody>\n",
       "    <tr>\n",
       "      <td>6</td>\n",
       "      <td>1976</td>\n",
       "      <td>[Merle Yahr Weiss, Robert E Lipsey]</td>\n",
       "      <td>Exports Foreign Investment Manufacturing Industries</td>\n",
       "      <td>[International Trade and Investment, International Finance and Macroeconomics]</td>\n",
       "    </tr>\n",
       "    <tr>\n",
       "      <td>2821</td>\n",
       "      <td>1989</td>\n",
       "      <td>[Joosung Jun]</td>\n",
       "      <td>What Marginal Source Funds Foreign Investment</td>\n",
       "      <td>[Public Economics]</td>\n",
       "    </tr>\n",
       "    <tr>\n",
       "      <td>4609</td>\n",
       "      <td>1994</td>\n",
       "      <td>[Elhanan Helpman, Gene M Grossman]</td>\n",
       "      <td>Foreign Investment Endogenous Protection</td>\n",
       "      <td>[International Trade and Investment]</td>\n",
       "    </tr>\n",
       "    <tr>\n",
       "      <td>4700</td>\n",
       "      <td>1994</td>\n",
       "      <td>[Ann E Harrison, Brian Aitken, Gordon H Hanson]</td>\n",
       "      <td>Spillovers Foreign Investment Export Behavior</td>\n",
       "      <td>[International Trade and Investment]</td>\n",
       "    </tr>\n",
       "    <tr>\n",
       "      <td>2472</td>\n",
       "      <td>1988</td>\n",
       "      <td>[Guy V G Stevens, Robert E Lipsey]</td>\n",
       "      <td>Interactions Domestic Foreign Investment</td>\n",
       "      <td>[International Trade and Investment, International Finance and Macroeconomics]</td>\n",
       "    </tr>\n",
       "    <tr>\n",
       "      <td>3369</td>\n",
       "      <td>1991</td>\n",
       "      <td>[Magnus Blomstrom]</td>\n",
       "      <td>Host Country Benefits Foreign Investment</td>\n",
       "      <td>[International Trade and Investment, International Finance and Macroeconomics]</td>\n",
       "    </tr>\n",
       "    <tr>\n",
       "      <td>4854</td>\n",
       "      <td>1995</td>\n",
       "      <td>[Gordon H Hanson, Robert C Feenstra]</td>\n",
       "      <td>Foreign Investment Outsourcing Relative Wages</td>\n",
       "      <td>[International Trade and Investment]</td>\n",
       "    </tr>\n",
       "    <tr>\n",
       "      <td>5894</td>\n",
       "      <td>1997</td>\n",
       "      <td>[Fiona M Scott Morton]</td>\n",
       "      <td>Entry Decisions Generic Pharmaceutical Industry</td>\n",
       "      <td>[Industrial Organization]</td>\n",
       "    </tr>\n",
       "    <tr>\n",
       "      <td>11960</td>\n",
       "      <td>2006</td>\n",
       "      <td>[C Fritz Foley, James R Hines, Jr, Mihir A Desai]</td>\n",
       "      <td>Capital Structure Risky Foreign Investment</td>\n",
       "      <td>[Corporate Finance, International Trade and Investment]</td>\n",
       "    </tr>\n",
       "    <tr>\n",
       "      <td>19974</td>\n",
       "      <td>2014</td>\n",
       "      <td>[Keith M Drake, Martha A Starr, Thomas G McGuire]</td>\n",
       "      <td>Do Reverse Payment Settlements Brand Generic Patent Disputes Pharmaceutical Industry Constitute Anticompetitive Pay Delay</td>\n",
       "      <td>[Health Care, Law and Economics]</td>\n",
       "    </tr>\n",
       "  </tbody>\n",
       "</table>\n",
       "</div>"
      ],
      "text/plain": [
       "       year_published                                             author  \\\n",
       "6      1976            [Merle Yahr Weiss, Robert E Lipsey]                 \n",
       "2821   1989            [Joosung Jun]                                       \n",
       "4609   1994            [Elhanan Helpman, Gene M Grossman]                  \n",
       "4700   1994            [Ann E Harrison, Brian Aitken, Gordon H Hanson]     \n",
       "2472   1988            [Guy V G Stevens, Robert E Lipsey]                  \n",
       "3369   1991            [Magnus Blomstrom]                                  \n",
       "4854   1995            [Gordon H Hanson, Robert C Feenstra]                \n",
       "5894   1997            [Fiona M Scott Morton]                              \n",
       "11960  2006            [C Fritz Foley, James R Hines, Jr, Mihir A Desai]   \n",
       "19974  2014            [Keith M Drake, Martha A Starr, Thomas G McGuire]   \n",
       "\n",
       "                                                                                                                           title  \\\n",
       "6      Exports Foreign Investment Manufacturing Industries                                                                         \n",
       "2821   What Marginal Source Funds Foreign Investment                                                                               \n",
       "4609   Foreign Investment Endogenous Protection                                                                                    \n",
       "4700   Spillovers Foreign Investment Export Behavior                                                                               \n",
       "2472   Interactions Domestic Foreign Investment                                                                                    \n",
       "3369   Host Country Benefits Foreign Investment                                                                                    \n",
       "4854   Foreign Investment Outsourcing Relative Wages                                                                               \n",
       "5894   Entry Decisions Generic Pharmaceutical Industry                                                                             \n",
       "11960  Capital Structure Risky Foreign Investment                                                                                  \n",
       "19974  Do Reverse Payment Settlements Brand Generic Patent Disputes Pharmaceutical Industry Constitute Anticompetitive Pay Delay   \n",
       "\n",
       "                                                                              program  \n",
       "6      [International Trade and Investment, International Finance and Macroeconomics]  \n",
       "2821   [Public Economics]                                                              \n",
       "4609   [International Trade and Investment]                                            \n",
       "4700   [International Trade and Investment]                                            \n",
       "2472   [International Trade and Investment, International Finance and Macroeconomics]  \n",
       "3369   [International Trade and Investment, International Finance and Macroeconomics]  \n",
       "4854   [International Trade and Investment]                                            \n",
       "5894   [Industrial Organization]                                                       \n",
       "11960  [Corporate Finance, International Trade and Investment]                         \n",
       "19974  [Health Care, Law and Economics]                                                "
      ]
     },
     "execution_count": 21,
     "metadata": {},
     "output_type": "execute_result"
    }
   ],
   "source": [
    "get_recommendations('Exports Foreign Investment Pharmaceutical Industry', cosine_sim=cosine_sim)"
   ]
  },
  {
   "cell_type": "markdown",
   "metadata": {},
   "source": [
    "### Recommender System using Tf-idf Vectorizer"
   ]
  },
  {
   "cell_type": "code",
   "execution_count": 22,
   "metadata": {},
   "outputs": [],
   "source": [
    "#Construct a reverse map of indices and movie titles\n",
    "indices = pd.Series(df.index, index=df['title']).drop_duplicates()\n",
    "\n",
    "# Function that takes in paper title as input and outputs most similar papers\n",
    "def get_recommendations_1(title, cosine_sim_1=cosine_sim_1):\n",
    "    # Get the index of the wp that matches the title\n",
    "    idx = indices[title]\n",
    "\n",
    "    # Get the pairwsie similarity scores of all papers with that paper\n",
    "    sim_scores_1 = list(enumerate(cosine_sim_1[idx]))\n",
    "\n",
    "    # Sort the wp based on the similarity scores\n",
    "    sim_scores_1 = sorted(sim_scores_1, key=lambda x: x[1], reverse=True)\n",
    "\n",
    "    # Get the scores of the 10 most similar wp\n",
    "    sim_scores_1 = sim_scores_1[1:11]\n",
    "\n",
    "    # Get the wp indices\n",
    "    wp_indices_1 = [i[0] for i in sim_scores_1]\n",
    "\n",
    "    # Return the top 10 most similar working papers\n",
    "    return pd.DataFrame({'year_published': df['year'].iloc[wp_indices_1],\n",
    "                         'author': df['author'].iloc[wp_indices_1],\n",
    "                         'title': df['title'].iloc[wp_indices_1],\n",
    "                        'program': df['program'].iloc[wp_indices_1]})"
   ]
  },
  {
   "cell_type": "code",
   "execution_count": 23,
   "metadata": {},
   "outputs": [
    {
     "data": {
      "text/html": [
       "<div>\n",
       "<style scoped>\n",
       "    .dataframe tbody tr th:only-of-type {\n",
       "        vertical-align: middle;\n",
       "    }\n",
       "\n",
       "    .dataframe tbody tr th {\n",
       "        vertical-align: top;\n",
       "    }\n",
       "\n",
       "    .dataframe thead th {\n",
       "        text-align: right;\n",
       "    }\n",
       "</style>\n",
       "<table border=\"1\" class=\"dataframe\">\n",
       "  <thead>\n",
       "    <tr style=\"text-align: right;\">\n",
       "      <th></th>\n",
       "      <th>year_published</th>\n",
       "      <th>author</th>\n",
       "      <th>title</th>\n",
       "      <th>program</th>\n",
       "    </tr>\n",
       "  </thead>\n",
       "  <tbody>\n",
       "    <tr>\n",
       "      <td>6</td>\n",
       "      <td>1976</td>\n",
       "      <td>[Merle Yahr Weiss, Robert E Lipsey]</td>\n",
       "      <td>Exports Foreign Investment Manufacturing Industries</td>\n",
       "      <td>[International Trade and Investment, International Finance and Macroeconomics]</td>\n",
       "    </tr>\n",
       "    <tr>\n",
       "      <td>2821</td>\n",
       "      <td>1989</td>\n",
       "      <td>[Joosung Jun]</td>\n",
       "      <td>What Marginal Source Funds Foreign Investment</td>\n",
       "      <td>[Public Economics]</td>\n",
       "    </tr>\n",
       "    <tr>\n",
       "      <td>4609</td>\n",
       "      <td>1994</td>\n",
       "      <td>[Elhanan Helpman, Gene M Grossman]</td>\n",
       "      <td>Foreign Investment Endogenous Protection</td>\n",
       "      <td>[International Trade and Investment]</td>\n",
       "    </tr>\n",
       "    <tr>\n",
       "      <td>4700</td>\n",
       "      <td>1994</td>\n",
       "      <td>[Ann E Harrison, Brian Aitken, Gordon H Hanson]</td>\n",
       "      <td>Spillovers Foreign Investment Export Behavior</td>\n",
       "      <td>[International Trade and Investment]</td>\n",
       "    </tr>\n",
       "    <tr>\n",
       "      <td>5894</td>\n",
       "      <td>1997</td>\n",
       "      <td>[Fiona M Scott Morton]</td>\n",
       "      <td>Entry Decisions Generic Pharmaceutical Industry</td>\n",
       "      <td>[Industrial Organization]</td>\n",
       "    </tr>\n",
       "    <tr>\n",
       "      <td>19974</td>\n",
       "      <td>2014</td>\n",
       "      <td>[Keith M Drake, Martha A Starr, Thomas G McGuire]</td>\n",
       "      <td>Do Reverse Payment Settlements Brand Generic Patent Disputes Pharmaceutical Industry Constitute Anticompetitive Pay Delay</td>\n",
       "      <td>[Health Care, Law and Economics]</td>\n",
       "    </tr>\n",
       "    <tr>\n",
       "      <td>11960</td>\n",
       "      <td>2006</td>\n",
       "      <td>[C Fritz Foley, James R Hines, Jr, Mihir A Desai]</td>\n",
       "      <td>Capital Structure Risky Foreign Investment</td>\n",
       "      <td>[Corporate Finance, International Trade and Investment]</td>\n",
       "    </tr>\n",
       "    <tr>\n",
       "      <td>4854</td>\n",
       "      <td>1995</td>\n",
       "      <td>[Gordon H Hanson, Robert C Feenstra]</td>\n",
       "      <td>Foreign Investment Outsourcing Relative Wages</td>\n",
       "      <td>[International Trade and Investment]</td>\n",
       "    </tr>\n",
       "    <tr>\n",
       "      <td>3369</td>\n",
       "      <td>1991</td>\n",
       "      <td>[Magnus Blomstrom]</td>\n",
       "      <td>Host Country Benefits Foreign Investment</td>\n",
       "      <td>[International Trade and Investment, International Finance and Macroeconomics]</td>\n",
       "    </tr>\n",
       "    <tr>\n",
       "      <td>2472</td>\n",
       "      <td>1988</td>\n",
       "      <td>[Guy V G Stevens, Robert E Lipsey]</td>\n",
       "      <td>Interactions Domestic Foreign Investment</td>\n",
       "      <td>[International Trade and Investment, International Finance and Macroeconomics]</td>\n",
       "    </tr>\n",
       "  </tbody>\n",
       "</table>\n",
       "</div>"
      ],
      "text/plain": [
       "       year_published                                             author  \\\n",
       "6      1976            [Merle Yahr Weiss, Robert E Lipsey]                 \n",
       "2821   1989            [Joosung Jun]                                       \n",
       "4609   1994            [Elhanan Helpman, Gene M Grossman]                  \n",
       "4700   1994            [Ann E Harrison, Brian Aitken, Gordon H Hanson]     \n",
       "5894   1997            [Fiona M Scott Morton]                              \n",
       "19974  2014            [Keith M Drake, Martha A Starr, Thomas G McGuire]   \n",
       "11960  2006            [C Fritz Foley, James R Hines, Jr, Mihir A Desai]   \n",
       "4854   1995            [Gordon H Hanson, Robert C Feenstra]                \n",
       "3369   1991            [Magnus Blomstrom]                                  \n",
       "2472   1988            [Guy V G Stevens, Robert E Lipsey]                  \n",
       "\n",
       "                                                                                                                           title  \\\n",
       "6      Exports Foreign Investment Manufacturing Industries                                                                         \n",
       "2821   What Marginal Source Funds Foreign Investment                                                                               \n",
       "4609   Foreign Investment Endogenous Protection                                                                                    \n",
       "4700   Spillovers Foreign Investment Export Behavior                                                                               \n",
       "5894   Entry Decisions Generic Pharmaceutical Industry                                                                             \n",
       "19974  Do Reverse Payment Settlements Brand Generic Patent Disputes Pharmaceutical Industry Constitute Anticompetitive Pay Delay   \n",
       "11960  Capital Structure Risky Foreign Investment                                                                                  \n",
       "4854   Foreign Investment Outsourcing Relative Wages                                                                               \n",
       "3369   Host Country Benefits Foreign Investment                                                                                    \n",
       "2472   Interactions Domestic Foreign Investment                                                                                    \n",
       "\n",
       "                                                                              program  \n",
       "6      [International Trade and Investment, International Finance and Macroeconomics]  \n",
       "2821   [Public Economics]                                                              \n",
       "4609   [International Trade and Investment]                                            \n",
       "4700   [International Trade and Investment]                                            \n",
       "5894   [Industrial Organization]                                                       \n",
       "19974  [Health Care, Law and Economics]                                                \n",
       "11960  [Corporate Finance, International Trade and Investment]                         \n",
       "4854   [International Trade and Investment]                                            \n",
       "3369   [International Trade and Investment, International Finance and Macroeconomics]  \n",
       "2472   [International Trade and Investment, International Finance and Macroeconomics]  "
      ]
     },
     "execution_count": 23,
     "metadata": {},
     "output_type": "execute_result"
    }
   ],
   "source": [
    "get_recommendations_1('Exports Foreign Investment Pharmaceutical Industry', cosine_sim_1=cosine_sim_1)"
   ]
  },
  {
   "cell_type": "code",
   "execution_count": null,
   "metadata": {},
   "outputs": [],
   "source": []
  },
  {
   "cell_type": "code",
   "execution_count": null,
   "metadata": {},
   "outputs": [],
   "source": []
  }
 ],
 "metadata": {
  "kernelspec": {
   "display_name": "Python 3",
   "language": "python",
   "name": "python3"
  },
  "language_info": {
   "codemirror_mode": {
    "name": "ipython",
    "version": 3
   },
   "file_extension": ".py",
   "mimetype": "text/x-python",
   "name": "python",
   "nbconvert_exporter": "python",
   "pygments_lexer": "ipython3",
   "version": "3.7.4"
  }
 },
 "nbformat": 4,
 "nbformat_minor": 2
}
